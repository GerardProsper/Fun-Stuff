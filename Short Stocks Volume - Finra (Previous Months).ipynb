{
 "cells": [
  {
   "cell_type": "code",
   "execution_count": 1,
   "metadata": {},
   "outputs": [],
   "source": [
    "# This is for Short Volume code for Previous Months for Finra"
   ]
  },
  {
   "cell_type": "code",
   "execution_count": 2,
   "metadata": {},
   "outputs": [],
   "source": [
    "import pandas as pd\n",
    "from pandas import DataFrame\n",
    "import requests\n",
    "#import matplotlib.pyplot as plt\n",
    "from datetime import datetime, timedelta, date\n",
    "#import numpy as np\n",
    "from openpyxl import load_workbook"
   ]
  },
  {
   "cell_type": "code",
   "execution_count": 3,
   "metadata": {},
   "outputs": [
    {
     "name": "stdout",
     "output_type": "stream",
     "text": [
      "What is the month you want to find out (Use num.)? (ie Jan=1, April=4, Dec=12, etc) 4\n",
      "What is the year you want to find out? (ie 2021, 2020, 2019, etc) 2021\n"
     ]
    }
   ],
   "source": [
    "# To find the all the weekdays in a month\n",
    "month_start = input('What is the month you want to find out (Use num.)? (ie Jan=1, April=4, Dec=12, etc) ')\n",
    "year_start = input('What is the year you want to find out? (ie 2021, 2020, 2019, etc) ')\n",
    "month_object_start = datetime.strptime(month_start, \"%m\") #To convert to datetime format\n",
    "year_object_start = datetime.strptime(year_start, \"%Y\") #To convert to datetime format"
   ]
  },
  {
   "cell_type": "code",
   "execution_count": 4,
   "metadata": {},
   "outputs": [],
   "source": [
    "from calendar import monthrange\n",
    "days = monthrange(int(year_start),int(month_start)) # To find out how many days in a month"
   ]
  },
  {
   "cell_type": "code",
   "execution_count": 5,
   "metadata": {},
   "outputs": [],
   "source": [
    "date_need = []\n",
    "for i in range(1,days[1]+1):\n",
    "    date_month = datetime(int(year_start),int(month_start),i) # To find the first day of the month\n",
    "    # Below will go thru each day in day month and if weekday, will add it to date_need\n",
    "    if date_month.strftime(\"%A\") in ['Monday','Tuesday','Wednesday','Thursday','Friday']: \n",
    "        date_need.append(date_month.strftime(\"%Y%m%d\"))\n",
    "#len(date_need)"
   ]
  },
  {
   "cell_type": "code",
   "execution_count": 6,
   "metadata": {},
   "outputs": [
    {
     "name": "stdout",
     "output_type": "stream",
     "text": [
      "21\n"
     ]
    }
   ],
   "source": [
    "url = 'http://regsho.finra.org/CNMSshvol' #This is the base of the url\n",
    "date_need_new = [] #All the dates that have trading days will be added to this list \n",
    "finra_month = [] # All the url which have trading will be added to this list\n",
    "for item in date_need:\n",
    "    urlv = url + item + '.txt' #str cannot append, so just add it\n",
    "    trys = requests.get(urlv) # To get the length of the contents in url to be tested\n",
    "    tryss = trys.text\n",
    "    if len(tryss) > 302 : # If URL length is 302, there are no trading on that day. This will append all days got trading\n",
    "        finra_month.append(urlv)\n",
    "        date_need_new.append(urlv[-12:-4]) #All the dates that have trading days will be added to this list   \n",
    "print(len(finra_month))"
   ]
  },
  {
   "cell_type": "code",
   "execution_count": 7,
   "metadata": {},
   "outputs": [
    {
     "name": "stdout",
     "output_type": "stream",
     "text": [
      "No errors between the URL and dates sum\n"
     ]
    }
   ],
   "source": [
    "while len(finra_month) == len(date_need_new): #Just to check the quantity is correct, if not numbering will be wrong when naming\n",
    "    print('No errors between the URL and dates sum')\n",
    "    break\n",
    "else:\n",
    "    print('There is AN ERROR between the URL and dates sum')"
   ]
  },
  {
   "cell_type": "code",
   "execution_count": 8,
   "metadata": {
    "scrolled": true
   },
   "outputs": [
    {
     "name": "stdout",
     "output_type": "stream",
     "text": [
      "There are 20 URL left in this operation\n",
      "There are 19 URL left in this operation\n",
      "There are 18 URL left in this operation\n",
      "There are 17 URL left in this operation\n",
      "There are 16 URL left in this operation\n",
      "There are 15 URL left in this operation\n",
      "There are 14 URL left in this operation\n",
      "There are 13 URL left in this operation\n",
      "There are 12 URL left in this operation\n",
      "There are 11 URL left in this operation\n",
      "There are 10 URL left in this operation\n",
      "There are 9 URL left in this operation\n",
      "There are 8 URL left in this operation\n",
      "There are 7 URL left in this operation\n",
      "There are 6 URL left in this operation\n",
      "There are 5 URL left in this operation\n",
      "There are 4 URL left in this operation\n",
      "There are 3 URL left in this operation\n",
      "There are 2 URL left in this operation\n",
      "There are 1 URL left in this operation\n",
      "There are 0 URL left in this operation\n"
     ]
    }
   ],
   "source": [
    "count = 0\n",
    "\n",
    "for x in finra_month:\n",
    "    response = requests.get(f'{x}')\n",
    "    data = response.text\n",
    "    data = data.replace('\\r','') # Once URL contents are readable in python, must remove /r and /n from data\n",
    "    data = data.replace('\\n','|') # /n is being replaced with | due to easier when split it up below\n",
    "    a = data.split('|') # All content will be split according to | for easier breakdown into columns\n",
    "    del a[-2:] # Last 2 items in all data are not needed\n",
    "    \n",
    "    # Since each data has 6 columns, can break data up equally among 6 columns\n",
    "    \n",
    "    # Sum of each columns(datee,symee, etc) will be total of entire data\n",
    "    # len(datee+symee+svee+sevee+tvee+mee) == len(a) : This needs to be true for code to work\n",
    "    # Below is list which will contain the iterations of 6's \n",
    "    # Example >> datee will have 0,6,12,18,24,....\n",
    "    # symee will have 1,7,13,19,.... \n",
    "    # can use this with below (Date, Symbol) to put a from above into list for columns in pandas\n",
    "    datee = [] \n",
    "    symee = []\n",
    "    svee = []\n",
    "    sevee = []\n",
    "    tvee = []\n",
    "    mee = []\n",
    "    \n",
    "    # All 6 below will be columns used in pandas containing the content of the URL \n",
    "    # Date will have all the dates of the URL contents, etc\n",
    "    Date = []\n",
    "    Symbol = []\n",
    "    Short_Volume = []\n",
    "    Short_Exempt_Volume = []\n",
    "    Total_Volume = []\n",
    "    Market = []\n",
    "    \n",
    "    #This is to get all the numbers in each column to extract the data. \n",
    "    # Example >> datee will have 0,6,12,18,24,....\n",
    "    # symee will have 1,7,13,19,....\n",
    "    for i in range(0,6):\n",
    "        for h in range(i,len(a),6):\n",
    "            if i == 0:\n",
    "                datee.append(h)\n",
    "            elif i == 1:\n",
    "                symee.append(h)\n",
    "            elif i == 2:\n",
    "                svee.append(h)\n",
    "            elif i == 3:\n",
    "                sevee.append(h)\n",
    "            elif i == 4:\n",
    "                tvee.append(h)\n",
    "            elif i == 5:\n",
    "                mee.append(h)\n",
    "    \n",
    "    # This will get all the data and put them into their respective columns \n",
    "    # Example for Date.append(a[dd]), a[dd] = a[01] = the first index of the a(data from URL) and so on\n",
    "    for dd in datee:\n",
    "        Date.append(a[dd])\n",
    "    for sy in symee:\n",
    "        Symbol.append(a[sy])\n",
    "    for sv in svee:\n",
    "        Short_Volume.append(a[sv])\n",
    "    for sev in sevee:\n",
    "        Short_Exempt_Volume.append(a[sev])\n",
    "    for tve in tvee:\n",
    "        Total_Volume.append(a[tve])\n",
    "    for me in mee:\n",
    "        Market.append(a[me])\n",
    "    \n",
    "    # Creating a blank data frame and adding Data from above with names for columns\n",
    "    df = pd.DataFrame() \n",
    "    df['Date'] = Date\n",
    "    df['Symbol'] = Symbol\n",
    "    df['Short Volume'] = Short_Volume\n",
    "    df['Short Exempt Volume'] = Short_Exempt_Volume\n",
    "    df['Total Volume'] = Total_Volume\n",
    "    df['Market'] = Market\n",
    "    df.drop([0], inplace=True) # Drop first index\n",
    "    df.reset_index(drop= True, inplace=True) # Resetting index numbers\n",
    "    \n",
    "    #Changing the dtype above for easier data understanding (mean, std, basically, df.describe)\n",
    "    df = df.astype({\"Short Volume\":'int', \"Short Exempt Volume\":'int', \"Total Volume\":'int'}) \n",
    "    \n",
    "    df['Date'] = pd.to_datetime(df['Date'], dayfirst = True) # change date to datetime format\n",
    "    df['Date'] = df[\"Date\"].dt.strftime('%d %B %Y') # Changing it easier readibility \n",
    "    GME = df.loc[df['Symbol'] == 'GME'] # Extracting GME numbers\n",
    "    AMC = df.loc[df['Symbol'] == 'AMC'] # Extracting AMC numbers\n",
    "    NIO = df.loc[df['Symbol'] == 'NIO'] # Extracting NIO numbers\n",
    "    \n",
    "    if count == 0: \n",
    "        # The first count or count = 0 will create a new excel file. Easier this way than referencing first day of month\n",
    "        with pd.ExcelWriter(f'Short Stocks Volume {date_month.strftime(\"%B %Y\")} - Finra.xlsx', engine='openpyxl') as writer:\n",
    "                GME.to_excel(writer, sheet_name='GME')\n",
    "                AMC.to_excel(writer, sheet_name='AMC')\n",
    "                NIO.to_excel(writer, sheet_name='NIO')\n",
    "                df.to_excel(writer, sheet_name=f'Short Volume {date_need_new[count]}')\n",
    "                writer.close()\n",
    "    else: \n",
    "        # Once count >= 1, it will append to exisiting file. #a for append\n",
    "        with pd.ExcelWriter(f'Short Stocks Volume {date_month.strftime(\"%B %Y\")} - Finra.xlsx', mode = 'a', engine='openpyxl') as writer:  \n",
    "            # try to open an existing workbook\n",
    "            writer.book = load_workbook(f'Short Stocks Volume {date_month.strftime(\"%B %Y\")} - Finra.xlsx') \n",
    "            # copy existing sheets\n",
    "            writer.sheets = dict((ws.title, ws) for ws in writer.book.worksheets) \n",
    "            # will append to existing GME sheet, sheet name here specified\n",
    "            GME.to_excel(writer, 'GME',header=False,startrow=count+1) \n",
    "             # will append to existing AMC sheet, sheet name here specified\n",
    "            AMC.to_excel(writer, 'AMC',header=False,startrow=count+1)\n",
    "             # will create new sheet, sheet name new one given\n",
    "            NIO.to_excel(writer, 'NIO',header=False,startrow=count+1)\n",
    "             # will create new sheet, sheet name new one given\n",
    "            df.to_excel(writer, sheet_name=f'Short Volume {date_need_new[count]}')\n",
    "            writer.close() \n",
    "    \n",
    "    count += 1 # Once everything is completed, count will increase by one. To help sheet naming and whether excel sheet need to append\n",
    "    print(f'There are {len(finra_month)-count} URL left in this operation') # Using this to track at which part in code"
   ]
  },
  {
   "cell_type": "code",
   "execution_count": null,
   "metadata": {},
   "outputs": [],
   "source": []
  }
 ],
 "metadata": {
  "kernelspec": {
   "display_name": "Python 3",
   "language": "python",
   "name": "python3"
  },
  "language_info": {
   "codemirror_mode": {
    "name": "ipython",
    "version": 3
   },
   "file_extension": ".py",
   "mimetype": "text/x-python",
   "name": "python",
   "nbconvert_exporter": "python",
   "pygments_lexer": "ipython3",
   "version": "3.8.3"
  }
 },
 "nbformat": 4,
 "nbformat_minor": 4
}
