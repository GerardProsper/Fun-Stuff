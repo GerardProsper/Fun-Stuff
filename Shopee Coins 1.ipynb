{
 "cells": [
  {
   "cell_type": "code",
   "execution_count": 1,
   "metadata": {},
   "outputs": [],
   "source": [
    "# There are 3 versions of this format. Shopee is an online sales store popular in South East Asia (Amazon equivalent)\n",
    "# They give you Coins everyday if you check in. Everyday in increments by 1 until the 7th day, then it resets\n",
    "# I set a specific amount for each day of the week to make it more challenging (regardless of the dates)\n",
    "\n",
    "# Shopee Coins 1st version\n",
    "# Wanted to calculate\n",
    "# 1. How many coins per week I get in total for given increment  \n",
    "# 2. How many weeks/months it would take to get a certain amount of Shopee coins with given date\n",
    "# 3. What exact date would I get that amount of coins requested\n",
    "# \n",
    "# Increments                         : User Input\n",
    "# Coins amount requested             : User Input\n",
    "# Date began                         : User Input\n",
    "# Coins have now                     : NOT APPLICABLE \n",
    "# Have they collected the coins today: NOT APPLICABLE \n",
    "# Date end                           : NOT APPLICABLE  \n",
    "\n",
    "# Number of coins per week           : Code Output\n",
    "# Date achieved coins requested      : Code Output \n",
    "# Weeks taken to get coins requested : Code Output\n",
    "# How many coins have at the end date: Code Output  "
   ]
  },
  {
   "cell_type": "code",
   "execution_count": 12,
   "metadata": {},
   "outputs": [
    {
     "name": "stdout",
     "output_type": "stream",
     "text": [
      "How much are the increments on a daily basis to 7 days? 1\n",
      "How many coins do you want? 100\n",
      "What is the date you began? (i.e. DD/MM/YYYY) 16/01/2021\n"
     ]
    }
   ],
   "source": [
    "import math\n",
    "from datetime import datetime, timedelta\n",
    "import itertools\n",
    "\n",
    "inc = int(input('How much are the increments on a daily basis to 7 days? '))\n",
    "coins = int(input('How many coins do you want? '))\n",
    "date_string = input('What is the date you began? (i.e. DD/MM/YYYY) ')\n",
    "date_object = datetime.strptime(date_string, \"%d/%m/%Y\") # to change date to datetime format"
   ]
  },
  {
   "cell_type": "code",
   "execution_count": 13,
   "metadata": {},
   "outputs": [],
   "source": [
    "a = 0\n",
    "b = []\n",
    "for a in range(7):      # for loop is to assign numbers to each day\n",
    "    b.append(a+inc)\n",
    "\n",
    "days = ['Mon','Tues','Wed','Thurs','Fri','Sat','Sun']\n",
    "\n",
    "Week = dict(zip(days,b)) # this is to combine days and number to make dictionary\n",
    "Sum_week = sum(Week.values()) # sum the entire week values/amount\n",
    "Weeks_needed = math.ceil(coins/sum(Week.values())) # to get an upper ceiling number so that its whole number"
   ]
  },
  {
   "cell_type": "code",
   "execution_count": 14,
   "metadata": {},
   "outputs": [],
   "source": [
    "day_start = date_object.strftime(\"%a\")\n",
    "start = Week[day_start] # this is to get that particular day amount\n",
    "i = iter(Week.items()) # to get the entire list of dictionary for slicing? Dict cant slice as it is not in sequence \n",
    "start1 = dict(itertools.islice(i,start- 1)) # It goes from i to number given, had to -1 to not take that day number\n",
    "start2 = dict(i) # And keep that day number here. Because it will be start day number until end of week (Sun), as Mon it resets\n",
    "startsum = sum(start2.values()) # Sum all the values for that day until the end of the week"
   ]
  },
  {
   "cell_type": "code",
   "execution_count": 15,
   "metadata": {},
   "outputs": [],
   "source": [
    "days_needed = coins/Sum_week * 7\n",
    "date_future = date_object + timedelta(days=(days_needed)) # from number of days, add this to date given to get new date"
   ]
  },
  {
   "cell_type": "code",
   "execution_count": 16,
   "metadata": {},
   "outputs": [],
   "source": [
    "delta = date_future - date_object # to find the number of days between the 2 dates\n",
    "middle_days = delta.days - len(start2) # to remove the start day until end of week\n",
    "no_weeks = middle_days//7 # to get no of 'even' weeks \n",
    "tmw = no_weeks * Sum_week # 'Even' weeks multiply with sum of each week\n",
    "nodr = middle_days%7 + 1 # To get number of 'remaining' days and (+1) one is to include the last day itself"
   ]
  },
  {
   "cell_type": "code",
   "execution_count": 17,
   "metadata": {},
   "outputs": [],
   "source": [
    "i = iter(Week.items()) # to get the entire list of dictionary for slicing? Dict cant slice as it is not in sequence \n",
    "end1 = dict(itertools.islice(i,nodr)) # It goes from i to no of days remaning, hence 'begnning'\n",
    "end2 = dict(i)\n",
    "endsum = sum(end1.values()) # Sum all the values from beginning of week to that date/day which was calculated"
   ]
  },
  {
   "cell_type": "code",
   "execution_count": 20,
   "metadata": {},
   "outputs": [
    {
     "name": "stdout",
     "output_type": "stream",
     "text": [
      "\n",
      "Summary as follows:\n",
      "1. You will get 28 coins per week.\n",
      "2. You would need about 4 weeks or 1.0 months to get 100 coins.\n",
      "3. If you start on 16 January 2021, you will have exactly 103 coins on 10 February 2021\n",
      "\n"
     ]
    }
   ],
   "source": [
    "total_coins = startsum + tmw + endsum # Sum of all coins.\n",
    "\n",
    "print(f\"\"\"\n",
    "Summary as follows:\n",
    "1. You will get {Sum_week} coins per week.\n",
    "2. You would need about {Weeks_needed} weeks or {Weeks_needed/4} months to get {coins} coins.\n",
    "3. If you start on {date_object.strftime('%d %B %Y')}, you will have exactly {total_coins} coins on {date_future.strftime('%d %B %Y')}\n",
    "\"\"\")"
   ]
  },
  {
   "cell_type": "code",
   "execution_count": null,
   "metadata": {},
   "outputs": [],
   "source": []
  }
 ],
 "metadata": {
  "kernelspec": {
   "display_name": "Python 3",
   "language": "python",
   "name": "python3"
  },
  "language_info": {
   "codemirror_mode": {
    "name": "ipython",
    "version": 3
   },
   "file_extension": ".py",
   "mimetype": "text/x-python",
   "name": "python",
   "nbconvert_exporter": "python",
   "pygments_lexer": "ipython3",
   "version": "3.8.3"
  }
 },
 "nbformat": 4,
 "nbformat_minor": 4
}
