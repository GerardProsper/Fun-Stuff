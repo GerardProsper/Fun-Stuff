{
 "cells": [
  {
   "cell_type": "code",
   "execution_count": 1,
   "metadata": {},
   "outputs": [],
   "source": [
    "# There are 3 versions of this format. Shopee is an online sales store popular in South East Asia (Amazon equivalent)\n",
    "# They give you Coins everyday if you check in. Everyday in increments by 1 until the 7th day, then it resets\n",
    "# I set a specific amount for each day of the week to make it more challenging (regardless of the dates)\n",
    "\n",
    "# Shopee Coins 2nd version\n",
    "## Given that I have a certain amount of coins at the that given date, now to find want \n",
    "# 1. For an amount requested, what date would I get that said amount with the coins I have\n",
    "## I am also asking the user whether they collected their coins for that given day, if yes then just carry on normally\n",
    "\n",
    "# Other Q's I am answering: \n",
    "# 2. How many coins per week I get in total for given increment  \n",
    "# 3. How many weeks/months it would take to get a certain amount of Shopee coins with given date\n",
    "# 4. What exact date would I get that amount of coins requested\n",
    "# \n",
    "# Increments                         : User Input\n",
    "# Coins amount requested             : User Input\n",
    "# Date began/start/now               : User Input\n",
    "# Coins have now                     : User Input\n",
    "# Have they collected the coins today: User Input\n",
    "# Date end                           : NOT APPLICABLE \n",
    "\n",
    "# Number of coins per week           : Code Output\n",
    "# Date achieved coins requested      : Code Output \n",
    "# Weeks taken to get coins requested : Code Output\n",
    "# How many coins have at the end date: NOT APPLICABLE "
   ]
  },
  {
   "cell_type": "code",
   "execution_count": 1,
   "metadata": {},
   "outputs": [
    {
     "name": "stdout",
     "output_type": "stream",
     "text": [
      "How much are the increments on a daily basis to 7 days? 1\n",
      "How much coins do you have now? 12\n",
      "What is the date now for you? (i.e. DD/MM/YYYY) 03/02/2021\n",
      "Have you collected your coins for today? yes\n",
      "How many coins do you want? 10\n"
     ]
    }
   ],
   "source": [
    "from datetime import datetime, timedelta\n",
    "import math \n",
    "import itertools\n",
    "\n",
    "inc = int(input('How much are the increments on a daily basis to 7 days? '))\n",
    "coins_now =  int(input('How much coins do you have now? '))\n",
    "date_now = input('What is the date now for you? (i.e. DD/MM/YYYY) ')\n",
    "date_object_now = datetime.strptime(date_now, \"%d/%m/%Y\")\n",
    "day_now = date_object_now.strftime(\"%a\") # to find exact day\n",
    "coins_taken = input('Have you collected your coins for today? ').lower()\n",
    "coins = int(input('How many coins do you want? '))"
   ]
  },
  {
   "cell_type": "code",
   "execution_count": 2,
   "metadata": {},
   "outputs": [],
   "source": [
    "a = 0\n",
    "b = []\n",
    "for a in range(7):   # for loop is to assign numbers to each day\n",
    "    b.append(a+inc)\n",
    "\n",
    "days = ['Mon','Tues','Wed','Thurs','Fri','Sat','Sun']\n",
    "\n",
    "Week = dict(zip(days,b)) # this is to combine days and number to make dictionary\n",
    "Sum_week = sum(Week.values()) # sum the entire week values/amount\n",
    "Weeks_needed = math.ceil(coins/sum(Week.values())) # to get an upper ceiling number so that its whole number"
   ]
  },
  {
   "cell_type": "code",
   "execution_count": 3,
   "metadata": {},
   "outputs": [],
   "source": [
    "for day in Week:         # this to find the day of the week so can get that day coin amount if user has not collected  \n",
    "    if day_now == day:   # their coins for that day\n",
    "        c = Week.get(day_now)"
   ]
  },
  {
   "cell_type": "code",
   "execution_count": 4,
   "metadata": {},
   "outputs": [],
   "source": [
    "if coins_taken[0] == 'y':              # this is to add coins of that given day if user didnt collect coins\n",
    "    coins_start_total = coins_now\n",
    "else: \n",
    "    coins_start_total = coins_now + c\n",
    "\n",
    "coins_total = coins + coins_start_total # coins requested + sum of coins at beginning  "
   ]
  },
  {
   "cell_type": "code",
   "execution_count": 5,
   "metadata": {},
   "outputs": [],
   "source": [
    "days_needed = coins/Sum_week * 7 # this is okay as we do not want to know the number of exact coins we have at the end date\n",
    "date_future = date_object_now + timedelta(days=(days_needed)) # from number of days, add this to date given to get new date"
   ]
  },
  {
   "cell_type": "code",
   "execution_count": 9,
   "metadata": {},
   "outputs": [
    {
     "name": "stdout",
     "output_type": "stream",
     "text": [
      "\n",
      "Summary as follows:\n",
      "1. You had 12 coins on 03 February 2021. \n",
      "2. You will get 28 coins per week.\n",
      "3. You would need about 1 weeks or 0.25 months to get 10 coins.\n",
      "4. If you start on 03 February 2021, you will have 22 coins by 05 February 2021.\n",
      "\n"
     ]
    }
   ],
   "source": [
    "print(f\"\"\"\n",
    "Summary as follows:\n",
    "1. You had {coins_start_total} coins on {date_object_now.strftime('%d %B %Y')}. \n",
    "2. You will get {Sum_week} coins per week.\n",
    "3. You would need about {Weeks_needed} weeks or {Weeks_needed/4} months to get {coins} coins.\n",
    "4. If you start on {date_object_now.strftime('%d %B %Y')}, you will have {coins_total} coins by {date_future.strftime('%d %B %Y')}.\n",
    "\"\"\")"
   ]
  },
  {
   "cell_type": "code",
   "execution_count": null,
   "metadata": {},
   "outputs": [],
   "source": []
  }
 ],
 "metadata": {
  "kernelspec": {
   "display_name": "Python 3",
   "language": "python",
   "name": "python3"
  },
  "language_info": {
   "codemirror_mode": {
    "name": "ipython",
    "version": 3
   },
   "file_extension": ".py",
   "mimetype": "text/x-python",
   "name": "python",
   "nbconvert_exporter": "python",
   "pygments_lexer": "ipython3",
   "version": "3.8.3"
  }
 },
 "nbformat": 4,
 "nbformat_minor": 4
}
