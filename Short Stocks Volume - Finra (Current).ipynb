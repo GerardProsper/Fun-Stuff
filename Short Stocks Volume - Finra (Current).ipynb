{
 "cells": [
  {
   "cell_type": "code",
   "execution_count": 1,
   "metadata": {},
   "outputs": [],
   "source": [
    "# I created this to analyze the short Volume on a daily basis"
   ]
  },
  {
   "cell_type": "code",
   "execution_count": 2,
   "metadata": {},
   "outputs": [],
   "source": [
    "import pandas as pd\n",
    "from pandas import DataFrame\n",
    "import requests\n",
    "#import matplotlib.pyplot as plt\n",
    "from datetime import datetime, timedelta, date\n",
    "#import numpy as np\n",
    "from openpyxl import load_workbook"
   ]
  },
  {
   "cell_type": "code",
   "execution_count": 3,
   "metadata": {},
   "outputs": [],
   "source": [
    "# Am using yesterday's date to get info from Stock Volume. My part of the world, we are ahead of USA\n",
    "yesterday = date.today() - timedelta(days=1) "
   ]
  },
  {
   "cell_type": "code",
   "execution_count": 4,
   "metadata": {},
   "outputs": [],
   "source": [
    "# To get data in needed format\n",
    "date_t = yesterday.strftime(\"%Y%m%d\")"
   ]
  },
  {
   "cell_type": "code",
   "execution_count": 5,
   "metadata": {},
   "outputs": [],
   "source": [
    "# To get url with date \n",
    "url = 'http://regsho.finra.org/CNMSshvol'\n",
    "url_v = url + date_t + '.txt'"
   ]
  },
  {
   "cell_type": "code",
   "execution_count": 6,
   "metadata": {},
   "outputs": [],
   "source": [
    "# To get contents from URL and ready for Python to read\n",
    "response = requests.get(f'{url_v}')\n",
    "data = response.text"
   ]
  },
  {
   "cell_type": "code",
   "execution_count": 7,
   "metadata": {},
   "outputs": [],
   "source": [
    "# To clean the data\n",
    "data = data.replace('\\r','') # Once URL contents are readable in python, must remove /r and /n from data\n",
    "data = data.replace('\\n','|') # /n is being replaced with | due to easier when split it up below\n",
    "a = data.split('|') # All content will be split according to | for easier breakdown into columns\n",
    "del a[-2:] # Last 2 items in all data are not needed"
   ]
  },
  {
   "cell_type": "code",
   "execution_count": 8,
   "metadata": {},
   "outputs": [],
   "source": [
    "# Since each data has 6 columns, can break data up equally among 6 columns\n",
    "\n",
    "# Sum of each columns(datee,symee, etc) will be total of entire data\n",
    "# len(datee+symee+svee+sevee+tvee+mee) == len(a) : This needs to be true for code to work\n",
    "# Below is list which will contain the iterations of 6's \n",
    "# Example >> datee will have 0,6,12,18,24,....\n",
    "# symee will have 1,7,13,19,.... \n",
    "# can use this with below (Date, Symbol) to put a from above into list for columns in pandas\n",
    "\n",
    "datee = []\n",
    "symee = []\n",
    "svee = []\n",
    "sevee = []\n",
    "tvee = []\n",
    "mee = []\n",
    "\n",
    "#This is to get all the numbers in each column to extract the data. \n",
    "# Example >> datee will have 0,6,12,18,24,....\n",
    "# symee will have 1,7,13,19,....\n",
    "\n",
    "for i in range(0,6):\n",
    "    for h in range(i,len(a),6):\n",
    "        if i == 0:\n",
    "            datee.append(h)\n",
    "        elif i == 1:\n",
    "            symee.append(h)\n",
    "        elif i == 2:\n",
    "            svee.append(h)\n",
    "        elif i == 3:\n",
    "            sevee.append(h)\n",
    "        elif i == 4:\n",
    "            tvee.append(h)\n",
    "        elif i == 5:\n",
    "            mee.append(h)"
   ]
  },
  {
   "cell_type": "code",
   "execution_count": 9,
   "metadata": {},
   "outputs": [
    {
     "name": "stdout",
     "output_type": "stream",
     "text": [
      "Sum of all columns is correct\n"
     ]
    }
   ],
   "source": [
    "#Just to check the quantity is correct, if not numbering and column info will be wrong \n",
    "while len(datee+symee+svee+sevee+tvee+mee) != len(a):\n",
    "    print('There is an error in one of the columns')\n",
    "    break\n",
    "else:\n",
    "    print('Sum of all columns is correct')"
   ]
  },
  {
   "cell_type": "code",
   "execution_count": 10,
   "metadata": {},
   "outputs": [],
   "source": [
    "# All 6 below will be columns used in pandas containing the content of the URL \n",
    "# Date will have all the dates of the URL contents, etc\n",
    "\n",
    "Date = []\n",
    "Symbol = []\n",
    "Short_Volume = []\n",
    "Short_Exempt_Volume = []\n",
    "Total_Volume = []\n",
    "Market = []\n",
    "\n",
    "# This will get all the data and put them into their respective columns \n",
    "# Example for Date.append(a[dd]), a[dd] = a[01] = the first index of the a(data from URL) and so on\n",
    "\n",
    "for dd in datee:\n",
    "    Date.append(a[dd])\n",
    "for sy in symee:\n",
    "    Symbol.append(a[sy])\n",
    "for sv in svee:\n",
    "    Short_Volume.append(a[sv])\n",
    "for sev in sevee:\n",
    "    Short_Exempt_Volume.append(a[sev])\n",
    "for tve in tvee:\n",
    "    Total_Volume.append(a[tve])\n",
    "for me in mee:\n",
    "    Market.append(a[me])"
   ]
  },
  {
   "cell_type": "code",
   "execution_count": 11,
   "metadata": {},
   "outputs": [],
   "source": [
    "# Creating a blank data frame and adding Data from above with names for columns\n",
    "df = pd.DataFrame() \n",
    "df['Date'] = Date\n",
    "df['Symbol'] = Symbol\n",
    "df['Short Volume'] = Short_Volume\n",
    "df['Short Exempt Volume'] = Short_Exempt_Volume\n",
    "df['Total Volume'] = Total_Volume\n",
    "df['Market'] = Market\n",
    "\n",
    "df.drop([0], inplace=True) # Drop first index\n",
    "df.reset_index(drop= True, inplace=True) # Resetting index numbers\n",
    "\n",
    "#Changing the dtype above for easier data understanding (mean, std, basically, df.describe)\n",
    "df = df.astype({\"Short Volume\":'int', \"Short Exempt Volume\":'int', \"Total Volume\":'int'}) \n",
    "\n",
    "df['Date'] = pd.to_datetime(df['Date'], dayfirst = True) # change date to datetime format\n",
    "# To convert the date into Dtype date then only change the format below. \n",
    "# Below will change it to object \n",
    "df['Date'] = df[\"Date\"].dt.strftime('%d %B %Y') # Changing it easier readibility \n",
    "\n",
    "GME = df.loc[df['Symbol'] == 'GME'] # Extracting GME numbers\n",
    "AMC = df.loc[df['Symbol'] == 'AMC'] # Extracting AMC numbers"
   ]
  },
  {
   "cell_type": "code",
   "execution_count": 12,
   "metadata": {},
   "outputs": [
    {
     "name": "stdout",
     "output_type": "stream",
     "text": [
      "<class 'pandas.core.frame.DataFrame'>\n",
      "RangeIndex: 9589 entries, 0 to 9588\n",
      "Data columns (total 6 columns):\n",
      " #   Column               Non-Null Count  Dtype \n",
      "---  ------               --------------  ----- \n",
      " 0   Date                 9589 non-null   object\n",
      " 1   Symbol               9589 non-null   object\n",
      " 2   Short Volume         9589 non-null   int32 \n",
      " 3   Short Exempt Volume  9589 non-null   int32 \n",
      " 4   Total Volume         9589 non-null   int32 \n",
      " 5   Market               9589 non-null   object\n",
      "dtypes: int32(3), object(3)\n",
      "memory usage: 337.2+ KB\n"
     ]
    }
   ],
   "source": [
    "df.info()"
   ]
  },
  {
   "cell_type": "code",
   "execution_count": 13,
   "metadata": {},
   "outputs": [
    {
     "data": {
      "text/html": [
       "<div>\n",
       "<style scoped>\n",
       "    .dataframe tbody tr th:only-of-type {\n",
       "        vertical-align: middle;\n",
       "    }\n",
       "\n",
       "    .dataframe tbody tr th {\n",
       "        vertical-align: top;\n",
       "    }\n",
       "\n",
       "    .dataframe thead th {\n",
       "        text-align: right;\n",
       "    }\n",
       "</style>\n",
       "<table border=\"1\" class=\"dataframe\">\n",
       "  <thead>\n",
       "    <tr style=\"text-align: right;\">\n",
       "      <th></th>\n",
       "      <th>Short Volume</th>\n",
       "      <th>Short Exempt Volume</th>\n",
       "      <th>Total Volume</th>\n",
       "    </tr>\n",
       "  </thead>\n",
       "  <tbody>\n",
       "    <tr>\n",
       "      <th>count</th>\n",
       "      <td>9.589000e+03</td>\n",
       "      <td>9.589000e+03</td>\n",
       "      <td>9.589000e+03</td>\n",
       "    </tr>\n",
       "    <tr>\n",
       "      <th>mean</th>\n",
       "      <td>2.399906e+05</td>\n",
       "      <td>4.960014e+03</td>\n",
       "      <td>5.319452e+05</td>\n",
       "    </tr>\n",
       "    <tr>\n",
       "      <th>std</th>\n",
       "      <td>2.039770e+06</td>\n",
       "      <td>1.119438e+05</td>\n",
       "      <td>4.047948e+06</td>\n",
       "    </tr>\n",
       "    <tr>\n",
       "      <th>min</th>\n",
       "      <td>1.000000e+00</td>\n",
       "      <td>0.000000e+00</td>\n",
       "      <td>1.000000e+00</td>\n",
       "    </tr>\n",
       "    <tr>\n",
       "      <th>25%</th>\n",
       "      <td>3.402000e+03</td>\n",
       "      <td>0.000000e+00</td>\n",
       "      <td>8.873000e+03</td>\n",
       "    </tr>\n",
       "    <tr>\n",
       "      <th>50%</th>\n",
       "      <td>2.065500e+04</td>\n",
       "      <td>0.000000e+00</td>\n",
       "      <td>5.148300e+04</td>\n",
       "    </tr>\n",
       "    <tr>\n",
       "      <th>75%</th>\n",
       "      <td>9.541500e+04</td>\n",
       "      <td>3.650000e+02</td>\n",
       "      <td>2.257590e+05</td>\n",
       "    </tr>\n",
       "    <tr>\n",
       "      <th>max</th>\n",
       "      <td>1.466578e+08</td>\n",
       "      <td>9.479675e+06</td>\n",
       "      <td>2.741241e+08</td>\n",
       "    </tr>\n",
       "  </tbody>\n",
       "</table>\n",
       "</div>"
      ],
      "text/plain": [
       "       Short Volume  Short Exempt Volume  Total Volume\n",
       "count  9.589000e+03         9.589000e+03  9.589000e+03\n",
       "mean   2.399906e+05         4.960014e+03  5.319452e+05\n",
       "std    2.039770e+06         1.119438e+05  4.047948e+06\n",
       "min    1.000000e+00         0.000000e+00  1.000000e+00\n",
       "25%    3.402000e+03         0.000000e+00  8.873000e+03\n",
       "50%    2.065500e+04         0.000000e+00  5.148300e+04\n",
       "75%    9.541500e+04         3.650000e+02  2.257590e+05\n",
       "max    1.466578e+08         9.479675e+06  2.741241e+08"
      ]
     },
     "execution_count": 13,
     "metadata": {},
     "output_type": "execute_result"
    }
   ],
   "source": [
    "df.describe()"
   ]
  },
  {
   "cell_type": "code",
   "execution_count": 14,
   "metadata": {},
   "outputs": [],
   "source": [
    "from calendar import monthrange\n",
    "days = monthrange(int(yesterday.strftime(\"%Y\")),int(yesterday.strftime(\"%m\"))) # To find out how many days in a month\n",
    "\n",
    "date_need = []\n",
    "for i in range(1,days[1]+1):\n",
    "    date_month = datetime(int(yesterday.strftime(\"%Y\")),int(yesterday.strftime(\"%m\")),i) # To find the first day of the month\n",
    "    # Below will go thru each day in day month and if weekday, will add it to date_need\n",
    "    if date_month.strftime(\"%A\") in ['Monday','Tuesday','Wednesday','Thursday','Friday']: \n",
    "        date_need.append(date_month.strftime(\"%Y%m%d\"))\n",
    "        \n",
    "count = date_need.index(yesterday.strftime(\"%Y%m%d\")) + 1 # To find the location/count of the date in month for AMC, GME pos."
   ]
  },
  {
   "cell_type": "code",
   "execution_count": 15,
   "metadata": {},
   "outputs": [],
   "source": [
    "if date_need[0] == yesterday.strftime(\"%Y%m%d\"): \n",
    "    # The first day of the workweek in date_need must equal to the first day of actual date\n",
    "    with pd.ExcelWriter(f'Short Stocks Volume {yesterday.strftime(\"%B %Y\")} - Finra.xlsx', engine='openpyxl') as writer:\n",
    "            GME.to_excel(writer, sheet_name='GME')\n",
    "            AMC.to_excel(writer, sheet_name='AMC')\n",
    "            df.to_excel(writer, sheet_name=f'Short Volume {date_t}')\n",
    "            writer.close()\n",
    "else: \n",
    "    # Everything else will be appended\n",
    "    with pd.ExcelWriter(f'Short Stocks Volume {yesterday.strftime(\"%B %Y\")} - Finra.xlsx', mode = 'a', engine='openpyxl') as writer:  \n",
    "        # try to open an existing workbook\n",
    "        writer.book = load_workbook(f'Short Stocks Volume {yesterday.strftime(\"%B %Y\")} - Finra.xlsx') \n",
    "        # copy existing sheets\n",
    "        writer.sheets = dict((ws.title, ws) for ws in writer.book.worksheets) \n",
    "        # will append to existing GME sheet, sheet name here specified\n",
    "        GME.to_excel(writer, 'GME',header=False,startrow=count) \n",
    "         # will append to existing AMC sheet, sheet name here specified\n",
    "        AMC.to_excel(writer, 'AMC',header=False,startrow=count)\n",
    "         # will create new sheet, sheet name new one given\n",
    "        df.to_excel(writer, sheet_name=f'Short Volume {date_t}')\n",
    "        writer.close() "
   ]
  },
  {
   "cell_type": "code",
   "execution_count": null,
   "metadata": {},
   "outputs": [],
   "source": []
  }
 ],
 "metadata": {
  "kernelspec": {
   "display_name": "Python 3",
   "language": "python",
   "name": "python3"
  },
  "language_info": {
   "codemirror_mode": {
    "name": "ipython",
    "version": 3
   },
   "file_extension": ".py",
   "mimetype": "text/x-python",
   "name": "python",
   "nbconvert_exporter": "python",
   "pygments_lexer": "ipython3",
   "version": "3.8.3"
  }
 },
 "nbformat": 4,
 "nbformat_minor": 4
}
