{
 "cells": [
  {
   "cell_type": "code",
   "execution_count": 1,
   "metadata": {},
   "outputs": [],
   "source": [
    "# There are 3 versions of this format. Shopee is an online sales store popular in South East Asia (Amazon equivalent)\n",
    "# They give you Coins everyday if you check in. Everyday in increments by 1 until the 7th day, then it resets\n",
    "# I set a specific amount for each day of the week to make it more challenging (regardless of the dates)\n",
    "\n",
    "# Shopee Coins 3rd version\n",
    "## Given that a start date and end date, I want to find  \n",
    "# 1. How many coins would I have at the exact end date\n",
    "# \n",
    "# Increments                         : NOT APPLICABLE\n",
    "# Coins amount requested             : NOT APPLICABLE\n",
    "# Date began/start/now               : User Input\n",
    "# Coins have now                     : NOT APPLICABLE\n",
    "# Have they collected the coins today: NOT APPLICABLE\n",
    "# Date end                           : User Input \n",
    "\n",
    "# Number of coins per week           : NOT APPLICABLE\n",
    "# Date achieved coins requested      : NOT APPLICABLE \n",
    "# Weeks taken to get coins requested : NOT APPLICABLE\n",
    "# How many coins have at the end date: Code Output"
   ]
  },
  {
   "cell_type": "code",
   "execution_count": 8,
   "metadata": {},
   "outputs": [
    {
     "name": "stdout",
     "output_type": "stream",
     "text": [
      "How much are the increments on a daily basis to 7 days? 1\n",
      "What is the start date for collecting coins? (i.e. DD/MM/YYYY) 16/01/2021\n",
      "What is the end date for collecting coins? (i.e. DD/MM/YYYY) 17/01/2021\n"
     ]
    }
   ],
   "source": [
    "from datetime import datetime, timedelta\n",
    "import itertools\n",
    "\n",
    "inc = int(input('How much are the increments on a daily basis to 7 days? '))\n",
    "date_start = input('What is the start date for collecting coins? (i.e. DD/MM/YYYY) ')\n",
    "date_object_start = datetime.strptime(date_start, \"%d/%m/%Y\")\n",
    "day_start = date_object_start.strftime(\"%a\")  # to find exact day\n",
    "date_end = input('What is the end date for collecting coins? (i.e. DD/MM/YYYY) ')\n",
    "date_object_end = datetime.strptime(date_end, \"%d/%m/%Y\")\n",
    "day_end = date_object_end.strftime(\"%a\")  # to find exact day"
   ]
  },
  {
   "cell_type": "code",
   "execution_count": 9,
   "metadata": {},
   "outputs": [],
   "source": [
    "a = 0\n",
    "b = []\n",
    "for a in range(7): # for loop is to assign numbers to each day\n",
    "    b.append(a+inc)\n",
    "\n",
    "days = ['Mon','Tues','Wed','Thurs','Fri','Sat','Sun']\n",
    "Week = dict(zip(days,b)) # this is to combine days and number to make dictionary\n",
    "Sum_week = sum(Week.values()) # sum the entire week values/amount"
   ]
  },
  {
   "cell_type": "code",
   "execution_count": 10,
   "metadata": {},
   "outputs": [],
   "source": [
    "start = Week[day_start] # this is to get that particular day amount\n",
    "i = iter(Week.items()) # to get the entire list of dictionary for slicing? Dict cant slice as it is not in sequence \n",
    "start1 = dict(itertools.islice(i,start- 1)) # It goes from i to number given, had to -1 to not take that day number\n",
    "start2 = dict(i) # And keep that day number here. Because it will be start day number until end of week (Sun), as Mon it resets\n",
    "startsum = sum(start2.values()) # Sum all the values for that day until the end of the week"
   ]
  },
  {
   "cell_type": "code",
   "execution_count": 11,
   "metadata": {},
   "outputs": [],
   "source": [
    "delta = date_object_end - date_object_start # to find the number of days between the 2 dates\n",
    "middle_days = delta.days - len(start2) # to remove the start day until end of week\n",
    "no_weeks = middle_days//7 # to get no of 'even' weeks \n",
    "tmw = no_weeks * Sum_week # 'Even' weeks multiply with sum of each week\n",
    "nodr = middle_days%7 + 1 # To get number of 'remaining' days and (+1) one is to include the last day itself"
   ]
  },
  {
   "cell_type": "code",
   "execution_count": 12,
   "metadata": {},
   "outputs": [],
   "source": [
    "i = iter(Week.items()) # to get the entire list of dictionary for slicing? Dict cant slice as it is not in sequence \n",
    "end1 = dict(itertools.islice(i,nodr)) # It goes from i to no of days remaning, hence 'begnning'\n",
    "end2 = dict(i)\n",
    "endsum = sum(end1.values()) # Sum all the values from beginning of week to that date/day which was calculated"
   ]
  },
  {
   "cell_type": "code",
   "execution_count": 13,
   "metadata": {},
   "outputs": [
    {
     "name": "stdout",
     "output_type": "stream",
     "text": [
      "\n",
      "Summary as follows:\n",
      "1. You started collecting coins on 16 January 2021. \n",
      "2. You stopped collection coins at the end of 17 January 2021.\n",
      "3. You will have 13 coins at the end of this date. \n",
      "\n"
     ]
    }
   ],
   "source": [
    "total_coins = startsum + tmw + endsum # Sum of all coins. \n",
    "\n",
    "print(f\"\"\"\n",
    "Summary as follows:\n",
    "1. You started collecting coins on {date_object_start.strftime('%d %B %Y')}. \n",
    "2. You stopped collection coins at the end of {date_object_end.strftime('%d %B %Y')}.\n",
    "3. You will have {total_coins} coins at the end of this date. \n",
    "\"\"\")"
   ]
  },
  {
   "cell_type": "code",
   "execution_count": null,
   "metadata": {},
   "outputs": [],
   "source": []
  }
 ],
 "metadata": {
  "kernelspec": {
   "display_name": "Python 3",
   "language": "python",
   "name": "python3"
  },
  "language_info": {
   "codemirror_mode": {
    "name": "ipython",
    "version": 3
   },
   "file_extension": ".py",
   "mimetype": "text/x-python",
   "name": "python",
   "nbconvert_exporter": "python",
   "pygments_lexer": "ipython3",
   "version": "3.8.3"
  }
 },
 "nbformat": 4,
 "nbformat_minor": 4
}
