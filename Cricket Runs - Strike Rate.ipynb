{
 "cells": [
  {
   "cell_type": "code",
   "execution_count": null,
   "metadata": {},
   "outputs": [],
   "source": [
    "# I am a cricket fan. I created this to find the current strike rate and the user will input the desired\n",
    "# strike rate. The code will take in all the information and give out necessary cricket information. "
   ]
  },
  {
   "cell_type": "code",
   "execution_count": 1,
   "metadata": {},
   "outputs": [
    {
     "name": "stdout",
     "output_type": "stream",
     "text": [
      "How many runs does he have now: 27\n",
      "How many balls was bowled to him: 40\n",
      "\n",
      "His strike rate now is 67.5\n"
     ]
    }
   ],
   "source": [
    "C_Runs = int(input('How many runs does he have now: '))\n",
    "C_Balls = int(input('How many balls was bowled to him: '))\n",
    "SR = round((C_Runs / C_Balls)*100,2)\n",
    "print()\n",
    "print(f'His strike rate now is {SR}')"
   ]
  },
  {
   "cell_type": "code",
   "execution_count": 2,
   "metadata": {},
   "outputs": [
    {
     "name": "stdout",
     "output_type": "stream",
     "text": [
      "What is a strike rate you want? 85\n"
     ]
    }
   ],
   "source": [
    "Strike = True\n",
    "while Strike == True:\n",
    "    N_SR = int(input('What is a strike rate you want? '))\n",
    "    if N_SR < SR:\n",
    "        print('The New Strike Rate has to be more than the Old Strike Rate')\n",
    "        continue\n",
    "        print()\n",
    "    else: \n",
    "        Strike = False"
   ]
  },
  {
   "cell_type": "code",
   "execution_count": 3,
   "metadata": {},
   "outputs": [
    {
     "name": "stdout",
     "output_type": "stream",
     "text": [
      "How many overs are left in the game? Use one decimal place 24.0\n"
     ]
    }
   ],
   "source": [
    "Overs = float(input('How many overs are left in the game? Use one decimal place '))\n",
    "if Overs >= 10:\n",
    "    x = str(int(Overs*10))\n",
    "    Aballs = (int(x[0:2])*6) + (int(x[2]))\n",
    "else:\n",
    "    x = str(int(Overs*10))\n",
    "    Aballs = (int(x[0])*6) + (int(x[1]))"
   ]
  },
  {
   "cell_type": "code",
   "execution_count": 5,
   "metadata": {},
   "outputs": [
    {
     "name": "stdout",
     "output_type": "stream",
     "text": [
      "He needs to score 130 runs from the remaining 144 balls\n",
      "The Required strike rate of 90.28 will need to be done to achieve a New strike rate of 85\n",
      "The required run rate would be 5.42 runs per over\n",
      "He would have a total runs of 157 from 184 balls\n"
     ]
    }
   ],
   "source": [
    "import math \n",
    "\n",
    "Total_Balls = Aballs + C_Balls\n",
    "T_Runs = math.ceil((N_SR * Total_Balls)/100)\n",
    "N_Runs = T_Runs - C_Runs\n",
    "R_SR = round((N_Runs/Aballs)*100,2)\n",
    "R_RR = round((N_Runs / Aballs) * 6,2)\n",
    "\n",
    "print(f'He needs to score {N_Runs} runs from the remaining {Aballs} balls')\n",
    "print(f'The Required strike rate of {R_SR} will need to be done to achieve a New strike rate of {N_SR}')\n",
    "print(f'The required run rate would be {R_RR} runs per over')\n",
    "print(f'He would have a total runs of {T_Runs} from {Total_Balls} balls')"
   ]
  },
  {
   "cell_type": "code",
   "execution_count": null,
   "metadata": {},
   "outputs": [],
   "source": []
  }
 ],
 "metadata": {
  "kernelspec": {
   "display_name": "Python 3",
   "language": "python",
   "name": "python3"
  },
  "language_info": {
   "codemirror_mode": {
    "name": "ipython",
    "version": 3
   },
   "file_extension": ".py",
   "mimetype": "text/x-python",
   "name": "python",
   "nbconvert_exporter": "python",
   "pygments_lexer": "ipython3",
   "version": "3.8.3"
  }
 },
 "nbformat": 4,
 "nbformat_minor": 4
}
