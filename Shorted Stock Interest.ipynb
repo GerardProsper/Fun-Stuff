{
 "cells": [
  {
   "cell_type": "code",
   "execution_count": 1,
   "metadata": {},
   "outputs": [],
   "source": [
    "# I created this to look at available stocks vs short interest stocks for certain companies"
   ]
  },
  {
   "cell_type": "code",
   "execution_count": 2,
   "metadata": {},
   "outputs": [],
   "source": [
    "import pandas as pd\n",
    "from IPython.core.display import display, HTML\n",
    "import requests\n",
    "import matplotlib.pyplot as plt\n",
    "from datetime import datetime, timedelta\n",
    "import numpy as np\n",
    "import scipy as sp\n",
    "from scipy import stats"
   ]
  },
  {
   "cell_type": "code",
   "execution_count": 3,
   "metadata": {},
   "outputs": [],
   "source": [
    "shorts_1 = \"https://www.highshortinterest.com/\"\n",
    "##shorts_2 = \"https://www.highshortinterest.com/all/2\" ## make sure to unhastag this if 2 pages"
   ]
  },
  {
   "cell_type": "code",
   "execution_count": 4,
   "metadata": {},
   "outputs": [],
   "source": [
    "r_1 = requests.get(shorts_1)\n",
    "\n",
    "shorts_tables_1 = pd.read_html(r_1.text, header=0) # to put the tables into pandas form\n",
    "\n",
    "##r_2 = requests.get(shorts_2)  ## make sure to unhastag this if 2 pages\n",
    "##shorts_tables_2 = pd.read_html(r_2.text, header=0)  ## make sure to unhastag this if 2 pages"
   ]
  },
  {
   "cell_type": "code",
   "execution_count": 5,
   "metadata": {},
   "outputs": [],
   "source": [
    "shorts1 = shorts_tables_1[2]\n",
    "##shorts2 = shorts_tables_2[2]  ## make sure to unhastag this if 2 pages"
   ]
  },
  {
   "cell_type": "code",
   "execution_count": null,
   "metadata": {},
   "outputs": [],
   "source": []
  },
  {
   "cell_type": "code",
   "execution_count": 39,
   "metadata": {},
   "outputs": [],
   "source": [
    "for_str = shorts_tables_1[0].iloc[2].to_string() # to extract the other info besides dataframe and change it to strings\n",
    "#iloc change change for ranging from 0 to 2. Make sure check"
   ]
  },
  {
   "cell_type": "code",
   "execution_count": 40,
   "metadata": {},
   "outputs": [
    {
     "data": {
      "text/plain": [
       "str"
      ]
     },
     "execution_count": 40,
     "metadata": {},
     "output_type": "execute_result"
    }
   ],
   "source": [
    "type(for_str)"
   ]
  },
  {
   "cell_type": "code",
   "execution_count": 41,
   "metadata": {},
   "outputs": [
    {
     "data": {
      "text/plain": [
       "'High Short Interest Stocks HighShortInterest.com provides a convenient sorted database of stocks which have a short interest of over 20 percent. Additional key data such as the float, number of outstanding shares, and company industry is displayed. Data is presented for the Nasdaq Stock Market, the New York Stock Exchange, and the American Stock Exchange. You can view the data for all exchanges together or only view exchanges of interest by clicking on the appropriate tab. Stocks with high short interest are often very volatile and are well known for making explosive upside moves (known as a short squeeze). Stock traders will often flock to such stocks for no reason other than the fact that they have a high short interest and the price can potentially move up very quickly as traders with open short positions move to cover. Disclaimer: We have made our best effort to provide accurate data, but always do your own research and double check the information presented here before making an investment.    Database last updated on May 12, 2021'"
      ]
     },
     "execution_count": 41,
     "metadata": {},
     "output_type": "execute_result"
    }
   ],
   "source": [
    "for_str"
   ]
  },
  {
   "cell_type": "code",
   "execution_count": 42,
   "metadata": {},
   "outputs": [
    {
     "name": "stdout",
     "output_type": "stream",
     "text": [
      "on found 61 63\n",
      "on found 151 153\n",
      "on found 410 412\n",
      "on found 454 456\n",
      "on found 672 674\n",
      "on found 816 818\n",
      "on found 964 966\n",
      "on found 1036 1038\n"
     ]
    }
   ],
   "source": [
    "#Using regular expressions, you can use re.finditer to find all (non-overlapping) occurences:\n",
    "\n",
    "import re\n",
    "for m in re.finditer('on', for_str):\n",
    "        print('on found', m.start(), m.end())\n",
    "a = m.end() + 1 # 1 is to add after the on"
   ]
  },
  {
   "cell_type": "code",
   "execution_count": 43,
   "metadata": {},
   "outputs": [],
   "source": [
    "date = for_str[a:] # to get the date in the string, last few letters\n",
    "date_obj = datetime.strptime(date, '%B %d, %Y' )"
   ]
  },
  {
   "cell_type": "code",
   "execution_count": 45,
   "metadata": {},
   "outputs": [
    {
     "data": {
      "text/plain": [
       "datetime.datetime"
      ]
     },
     "execution_count": 45,
     "metadata": {},
     "output_type": "execute_result"
    }
   ],
   "source": [
    "type(date_obj)"
   ]
  },
  {
   "cell_type": "code",
   "execution_count": null,
   "metadata": {},
   "outputs": [],
   "source": []
  },
  {
   "cell_type": "markdown",
   "metadata": {},
   "source": [
    "# shorts = pd.concat([shorts1, shorts2], ignore_index=True) #to combine both dataframes ## only 1 page for february 25"
   ]
  },
  {
   "cell_type": "code",
   "execution_count": 46,
   "metadata": {},
   "outputs": [],
   "source": [
    "shorts = shorts1 # if one page use this"
   ]
  },
  {
   "cell_type": "code",
   "execution_count": null,
   "metadata": {},
   "outputs": [],
   "source": []
  },
  {
   "cell_type": "code",
   "execution_count": 47,
   "metadata": {},
   "outputs": [],
   "source": [
    "null_data = shorts[shorts.isnull().any(axis=1)]"
   ]
  },
  {
   "cell_type": "code",
   "execution_count": 48,
   "metadata": {},
   "outputs": [],
   "source": [
    "shorts.drop(null_data.index,inplace=True) # drop rows containing NaN"
   ]
  },
  {
   "cell_type": "code",
   "execution_count": 49,
   "metadata": {},
   "outputs": [],
   "source": [
    "shorts.reset_index(inplace=True, drop=True) # reset index"
   ]
  },
  {
   "cell_type": "code",
   "execution_count": 50,
   "metadata": {},
   "outputs": [],
   "source": [
    "tic = shorts['Ticker']\n",
    "com = shorts['Company']\n",
    "new = []"
   ]
  },
  {
   "cell_type": "code",
   "execution_count": 51,
   "metadata": {},
   "outputs": [],
   "source": [
    "for tick in tic:\n",
    "    if len(tick) > 4:\n",
    "        new.append(tick)\n",
    "#here, if the length of the ticker is more than 4, it means it is not a stock, see below for details"
   ]
  },
  {
   "cell_type": "code",
   "execution_count": 52,
   "metadata": {},
   "outputs": [
    {
     "data": {
      "text/plain": [
       "['<!-- google_ad_client = \"pub-1641527371507802\"; /* Financial */ google_ad_slot = \"4718314016\"; google_ad_width = 728; google_ad_height = 90; //-->']"
      ]
     },
     "execution_count": 52,
     "metadata": {},
     "output_type": "execute_result"
    }
   ],
   "source": [
    "new"
   ]
  },
  {
   "cell_type": "code",
   "execution_count": 53,
   "metadata": {},
   "outputs": [],
   "source": [
    "drop = shorts.loc[shorts['Ticker'] == new[0]] # to find rows with google information which we do not need\n",
    "# loc() is label based data selecting method"
   ]
  },
  {
   "cell_type": "code",
   "execution_count": 54,
   "metadata": {},
   "outputs": [
    {
     "data": {
      "text/html": [
       "<div>\n",
       "<style scoped>\n",
       "    .dataframe tbody tr th:only-of-type {\n",
       "        vertical-align: middle;\n",
       "    }\n",
       "\n",
       "    .dataframe tbody tr th {\n",
       "        vertical-align: top;\n",
       "    }\n",
       "\n",
       "    .dataframe thead th {\n",
       "        text-align: right;\n",
       "    }\n",
       "</style>\n",
       "<table border=\"1\" class=\"dataframe\">\n",
       "  <thead>\n",
       "    <tr style=\"text-align: right;\">\n",
       "      <th></th>\n",
       "      <th>Ticker</th>\n",
       "      <th>Company</th>\n",
       "      <th>Exchange</th>\n",
       "      <th>ShortInt</th>\n",
       "      <th>Float</th>\n",
       "      <th>Outstd</th>\n",
       "      <th>Industry</th>\n",
       "    </tr>\n",
       "  </thead>\n",
       "  <tbody>\n",
       "    <tr>\n",
       "      <th>25</th>\n",
       "      <td>&lt;!-- google_ad_client = \"pub-1641527371507802\"...</td>\n",
       "      <td>&lt;!-- google_ad_client = \"pub-1641527371507802\"...</td>\n",
       "      <td>&lt;!-- google_ad_client = \"pub-1641527371507802\"...</td>\n",
       "      <td>&lt;!-- google_ad_client = \"pub-1641527371507802\"...</td>\n",
       "      <td>&lt;!-- google_ad_client = \"pub-1641527371507802\"...</td>\n",
       "      <td>&lt;!-- google_ad_client = \"pub-1641527371507802\"...</td>\n",
       "      <td>&lt;!-- google_ad_client = \"pub-1641527371507802\"...</td>\n",
       "    </tr>\n",
       "  </tbody>\n",
       "</table>\n",
       "</div>"
      ],
      "text/plain": [
       "                                               Ticker  \\\n",
       "25  <!-- google_ad_client = \"pub-1641527371507802\"...   \n",
       "\n",
       "                                              Company  \\\n",
       "25  <!-- google_ad_client = \"pub-1641527371507802\"...   \n",
       "\n",
       "                                             Exchange  \\\n",
       "25  <!-- google_ad_client = \"pub-1641527371507802\"...   \n",
       "\n",
       "                                             ShortInt  \\\n",
       "25  <!-- google_ad_client = \"pub-1641527371507802\"...   \n",
       "\n",
       "                                                Float  \\\n",
       "25  <!-- google_ad_client = \"pub-1641527371507802\"...   \n",
       "\n",
       "                                               Outstd  \\\n",
       "25  <!-- google_ad_client = \"pub-1641527371507802\"...   \n",
       "\n",
       "                                             Industry  \n",
       "25  <!-- google_ad_client = \"pub-1641527371507802\"...  "
      ]
     },
     "execution_count": 54,
     "metadata": {},
     "output_type": "execute_result"
    }
   ],
   "source": [
    "drop # shows which rows is not needed"
   ]
  },
  {
   "cell_type": "code",
   "execution_count": 55,
   "metadata": {},
   "outputs": [],
   "source": [
    "shorts.drop(drop.index,inplace=True) # drop rows containing google information which we do not need"
   ]
  },
  {
   "cell_type": "code",
   "execution_count": 56,
   "metadata": {},
   "outputs": [],
   "source": [
    "shorts.reset_index(inplace=True, drop=True) "
   ]
  },
  {
   "cell_type": "code",
   "execution_count": 57,
   "metadata": {},
   "outputs": [],
   "source": [
    "shorts.drop(columns=['Ticker','Industry','Exchange'], inplace=True)"
   ]
  },
  {
   "cell_type": "code",
   "execution_count": 58,
   "metadata": {},
   "outputs": [],
   "source": [
    "shorts.rename(columns={'ShortInt':'Short Int (%)','Float':'Float (M)', 'Outstd':'Outstd (M)'},inplace=True)"
   ]
  },
  {
   "cell_type": "code",
   "execution_count": 59,
   "metadata": {},
   "outputs": [],
   "source": [
    "shorts['Short Int (%)'] = shorts['Short Int (%)'].str.rstrip('%')\n",
    "shorts['Float (M)'] = shorts['Float (M)'].str.rstrip('M')\n",
    "shorts['Outstd (M)'] = shorts['Outstd (M)'].str.rstrip('M')\n",
    "\n",
    "# Series.str.strip - Remove leading and trailing characters in Series/Index.\n",
    "# Series.str.lstrip - Remove leading characters in Series/Index.\n",
    "# Series.str.rstrip - Remove trailing characters in Series/Index."
   ]
  },
  {
   "cell_type": "code",
   "execution_count": 60,
   "metadata": {},
   "outputs": [
    {
     "name": "stdout",
     "output_type": "stream",
     "text": [
      "<class 'pandas.core.frame.DataFrame'>\n",
      "RangeIndex: 41 entries, 0 to 40\n",
      "Data columns (total 4 columns):\n",
      " #   Column         Non-Null Count  Dtype \n",
      "---  ------         --------------  ----- \n",
      " 0   Company        41 non-null     object\n",
      " 1   Short Int (%)  41 non-null     object\n",
      " 2   Float (M)      41 non-null     object\n",
      " 3   Outstd (M)     41 non-null     object\n",
      "dtypes: object(4)\n",
      "memory usage: 1.4+ KB\n"
     ]
    }
   ],
   "source": [
    "shorts.info()"
   ]
  },
  {
   "cell_type": "raw",
   "metadata": {},
   "source": [
    "# this was done only for February 9th short interest. \n",
    "\n",
    "shorts.at[31,'Outstd (M)'] = 5.73 # to change the row specific column value\n",
    "\n",
    "# at takes row number displayed eventhough 32 is index number \n",
    "# 5.73 got from https://finance.yahoo.com/quote/OXBR/key-statistics?p=OXBR "
   ]
  },
  {
   "cell_type": "code",
   "execution_count": 61,
   "metadata": {
    "scrolled": true
   },
   "outputs": [
    {
     "data": {
      "text/html": [
       "<div>\n",
       "<style scoped>\n",
       "    .dataframe tbody tr th:only-of-type {\n",
       "        vertical-align: middle;\n",
       "    }\n",
       "\n",
       "    .dataframe tbody tr th {\n",
       "        vertical-align: top;\n",
       "    }\n",
       "\n",
       "    .dataframe thead th {\n",
       "        text-align: right;\n",
       "    }\n",
       "</style>\n",
       "<table border=\"1\" class=\"dataframe\">\n",
       "  <thead>\n",
       "    <tr style=\"text-align: right;\">\n",
       "      <th></th>\n",
       "      <th>Company</th>\n",
       "      <th>Short Int (%)</th>\n",
       "      <th>Float (M)</th>\n",
       "      <th>Outstd (M)</th>\n",
       "    </tr>\n",
       "  </thead>\n",
       "  <tbody>\n",
       "    <tr>\n",
       "      <th>31</th>\n",
       "      <td>GTT Communications Inc</td>\n",
       "      <td>21.74</td>\n",
       "      <td>45.75</td>\n",
       "      <td>58.82</td>\n",
       "    </tr>\n",
       "    <tr>\n",
       "      <th>32</th>\n",
       "      <td>Senseonics Holdings Inc</td>\n",
       "      <td>21.73</td>\n",
       "      <td>333.73</td>\n",
       "      <td>427.91</td>\n",
       "    </tr>\n",
       "  </tbody>\n",
       "</table>\n",
       "</div>"
      ],
      "text/plain": [
       "                    Company Short Int (%) Float (M) Outstd (M)\n",
       "31   GTT Communications Inc         21.74     45.75      58.82\n",
       "32  Senseonics Holdings Inc         21.73    333.73     427.91"
      ]
     },
     "execution_count": 61,
     "metadata": {},
     "output_type": "execute_result"
    }
   ],
   "source": [
    "shorts.iloc[[31,32]] # iloc takes index as argument / indexed based selecting method"
   ]
  },
  {
   "cell_type": "code",
   "execution_count": 62,
   "metadata": {},
   "outputs": [],
   "source": [
    "shorts[[\"Short Int (%)\", \"Float (M)\", \"Outstd (M)\"]] = shorts[[\"Short Int (%)\", \"Float (M)\", \"Outstd (M)\"]].apply(pd.to_numeric)\n",
    "# this will change the columns from strings to float"
   ]
  },
  {
   "cell_type": "code",
   "execution_count": 63,
   "metadata": {},
   "outputs": [
    {
     "name": "stdout",
     "output_type": "stream",
     "text": [
      "<class 'pandas.core.frame.DataFrame'>\n",
      "RangeIndex: 41 entries, 0 to 40\n",
      "Data columns (total 4 columns):\n",
      " #   Column         Non-Null Count  Dtype  \n",
      "---  ------         --------------  -----  \n",
      " 0   Company        41 non-null     object \n",
      " 1   Short Int (%)  41 non-null     float64\n",
      " 2   Float (M)      41 non-null     float64\n",
      " 3   Outstd (M)     41 non-null     float64\n",
      "dtypes: float64(3), object(1)\n",
      "memory usage: 1.4+ KB\n"
     ]
    }
   ],
   "source": [
    "shorts.info() # confirmed that columns change to float"
   ]
  },
  {
   "cell_type": "code",
   "execution_count": 64,
   "metadata": {},
   "outputs": [],
   "source": [
    "shorts['Shr avbl (%)'] = round(shorts['Float (M)']/shorts['Outstd (M)'] * 100,2) # new column for available shares % "
   ]
  },
  {
   "cell_type": "code",
   "execution_count": 65,
   "metadata": {},
   "outputs": [],
   "source": [
    "shorts['Diff'] = round(shorts['Shr avbl (%)'] - shorts['Short Int (%)'],2) # new column for diff between shares"
   ]
  },
  {
   "cell_type": "code",
   "execution_count": 66,
   "metadata": {},
   "outputs": [],
   "source": [
    "buy = []\n",
    "for value in shorts['Diff']:\n",
    "    if value <= 0:\n",
    "        buy.append('Yes')\n",
    "    else:\n",
    "        buy.append('No')\n",
    "shorts['Buy?'] = buy\n",
    "# to evaluate whether the Diff column is +ve or -ve. If -ve, will consider buy and vice versa"
   ]
  },
  {
   "cell_type": "code",
   "execution_count": 67,
   "metadata": {},
   "outputs": [
    {
     "name": "stderr",
     "output_type": "stream",
     "text": [
      "C:\\ProgramData\\Anaconda3\\lib\\site-packages\\pandas\\core\\ops\\array_ops.py:253: FutureWarning: elementwise comparison failed; returning scalar instead, but in the future will perform elementwise comparison\n",
      "  res_values = method(rvalues)\n"
     ]
    }
   ],
   "source": [
    "yes_buy = shorts[shorts.eq(\"Yes\").any(1)] # to find yes located in anywhere in dataframe"
   ]
  },
  {
   "cell_type": "code",
   "execution_count": 68,
   "metadata": {},
   "outputs": [
    {
     "data": {
      "text/html": [
       "<div>\n",
       "<style scoped>\n",
       "    .dataframe tbody tr th:only-of-type {\n",
       "        vertical-align: middle;\n",
       "    }\n",
       "\n",
       "    .dataframe tbody tr th {\n",
       "        vertical-align: top;\n",
       "    }\n",
       "\n",
       "    .dataframe thead th {\n",
       "        text-align: right;\n",
       "    }\n",
       "</style>\n",
       "<table border=\"1\" class=\"dataframe\">\n",
       "  <thead>\n",
       "    <tr style=\"text-align: right;\">\n",
       "      <th></th>\n",
       "      <th>Company</th>\n",
       "      <th>Short Int (%)</th>\n",
       "      <th>Float (M)</th>\n",
       "      <th>Outstd (M)</th>\n",
       "      <th>Shr avbl (%)</th>\n",
       "      <th>Diff</th>\n",
       "      <th>Buy?</th>\n",
       "    </tr>\n",
       "  </thead>\n",
       "  <tbody>\n",
       "    <tr>\n",
       "      <th>14</th>\n",
       "      <td>Revlon Inc</td>\n",
       "      <td>27.13</td>\n",
       "      <td>6.84</td>\n",
       "      <td>53.49</td>\n",
       "      <td>12.79</td>\n",
       "      <td>-14.34</td>\n",
       "      <td>Yes</td>\n",
       "    </tr>\n",
       "    <tr>\n",
       "      <th>0</th>\n",
       "      <td>Root Inc</td>\n",
       "      <td>41.28</td>\n",
       "      <td>35.02</td>\n",
       "      <td>86.89</td>\n",
       "      <td>40.30</td>\n",
       "      <td>-0.98</td>\n",
       "      <td>Yes</td>\n",
       "    </tr>\n",
       "  </tbody>\n",
       "</table>\n",
       "</div>"
      ],
      "text/plain": [
       "       Company  Short Int (%)  Float (M)  Outstd (M)  Shr avbl (%)   Diff Buy?\n",
       "14  Revlon Inc          27.13       6.84       53.49         12.79 -14.34  Yes\n",
       "0     Root Inc          41.28      35.02       86.89         40.30  -0.98  Yes"
      ]
     },
     "execution_count": 68,
     "metadata": {},
     "output_type": "execute_result"
    }
   ],
   "source": [
    "yes_buy.sort_values(by=['Diff', 'Shr avbl (%)'])"
   ]
  },
  {
   "cell_type": "code",
   "execution_count": 69,
   "metadata": {},
   "outputs": [],
   "source": [
    "with pd.ExcelWriter('Shorted Stock Interest 2021.xlsx', mode='a',engine='openpyxl') as writer:  \n",
    "    shorts.to_excel(writer, sheet_name = f'Shorts {date_obj.strftime(\"%B %d, %Y\")}')\n",
    "    shorts.describe().to_excel(writer, sheet_name = f'Shorts Stats {date_obj.strftime(\"%B %d, %Y\")}')\n",
    "    yes_buy.to_excel(writer, sheet_name=f'Buy(Yes) {date_obj.strftime(\"%B %d, %Y\")}')\n",
    "    yes_buy.describe().to_excel(writer, sheet_name = f'Buy(Yes) Stats {date_obj.strftime(\"%B %d, %Y\")}')\n",
    "# able to append to existing excel document with new sheet"
   ]
  },
  {
   "cell_type": "code",
   "execution_count": null,
   "metadata": {},
   "outputs": [],
   "source": []
  },
  {
   "cell_type": "code",
   "execution_count": null,
   "metadata": {},
   "outputs": [],
   "source": [
    "# THINK ABOUT DOING A BELL CURVE FOR BUY (YES) & ALL DATA"
   ]
  },
  {
   "cell_type": "code",
   "execution_count": null,
   "metadata": {},
   "outputs": [],
   "source": [
    "graph_yes = yes_buy['Short Int (%)'].describe()[3:8]"
   ]
  },
  {
   "cell_type": "raw",
   "metadata": {},
   "source": [
    "## x-axis for the plot\n",
    "x_data = graph_yes\n",
    "\n",
    "## y-axis as the gaussian\n",
    "y_data = stats.norm.pdf(x_data, 0, 1)\n",
    "\n",
    "## plot data\n",
    "plt.plot(x_data, y_data)\n",
    "plt.show()"
   ]
  },
  {
   "cell_type": "code",
   "execution_count": null,
   "metadata": {},
   "outputs": [],
   "source": [
    "## plotting the data\n",
    "plt.hist(graph_yes, bins=100)\n",
    "plt.show()"
   ]
  },
  {
   "cell_type": "code",
   "execution_count": null,
   "metadata": {},
   "outputs": [],
   "source": []
  }
 ],
 "metadata": {
  "kernelspec": {
   "display_name": "Python 3",
   "language": "python",
   "name": "python3"
  },
  "language_info": {
   "codemirror_mode": {
    "name": "ipython",
    "version": 3
   },
   "file_extension": ".py",
   "mimetype": "text/x-python",
   "name": "python",
   "nbconvert_exporter": "python",
   "pygments_lexer": "ipython3",
   "version": "3.8.3"
  }
 },
 "nbformat": 4,
 "nbformat_minor": 4
}
