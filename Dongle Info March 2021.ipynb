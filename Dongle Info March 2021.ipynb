{
 "cells": [
  {
   "cell_type": "code",
   "execution_count": 1,
   "metadata": {},
   "outputs": [],
   "source": [
    "# To analyze dongle info from excel sheet"
   ]
  },
  {
   "cell_type": "code",
   "execution_count": 2,
   "metadata": {},
   "outputs": [],
   "source": [
    "import pandas as pd"
   ]
  },
  {
   "cell_type": "code",
   "execution_count": 3,
   "metadata": {},
   "outputs": [],
   "source": [
    "df = pd.read_excel(open(r'C:\\Users\\Lenovo Pc\\Desktop\\Univern\\Dongle 2021\\Dongle Info 2021.xlsx', 'rb'), sheet_name='Dongle Info', skiprows = lambda x: x in [1, 3])"
   ]
  },
  {
   "cell_type": "code",
   "execution_count": 4,
   "metadata": {},
   "outputs": [],
   "source": [
    "df.drop([0], inplace=True)"
   ]
  },
  {
   "cell_type": "code",
   "execution_count": 5,
   "metadata": {},
   "outputs": [],
   "source": [
    "df.dropna(axis=1, how='all', inplace = True)  # drop the columns where all elements are NaN:"
   ]
  },
  {
   "cell_type": "code",
   "execution_count": 6,
   "metadata": {},
   "outputs": [],
   "source": [
    "df = df.T # transpose the dataframe"
   ]
  },
  {
   "cell_type": "code",
   "execution_count": 7,
   "metadata": {},
   "outputs": [],
   "source": [
    "df = df.rename(columns=df.iloc[0]).drop(df.index[0])"
   ]
  },
  {
   "cell_type": "code",
   "execution_count": 8,
   "metadata": {},
   "outputs": [],
   "source": [
    "df.reset_index(inplace = True, drop = True)"
   ]
  },
  {
   "cell_type": "code",
   "execution_count": 9,
   "metadata": {},
   "outputs": [],
   "source": [
    "# to change the values in rows 1,2 using info from row 0\n",
    "for i in range(1,3):\n",
    "    df.iloc[i][0:6] = df.iloc[0][0:6]"
   ]
  },
  {
   "cell_type": "code",
   "execution_count": 10,
   "metadata": {},
   "outputs": [
    {
     "name": "stderr",
     "output_type": "stream",
     "text": [
      "<ipython-input-10-592bfc38d4bd>:1: SettingWithCopyWarning: \n",
      "A value is trying to be set on a copy of a slice from a DataFrame.\n",
      "Try using .loc[row_indexer,col_indexer] = value instead\n",
      "\n",
      "See the caveats in the documentation: https://pandas.pydata.org/pandas-docs/stable/user_guide/indexing.html#returning-a-view-versus-a-copy\n",
      "  df.iloc[3:6]['Company'] = 'Digi'\n"
     ]
    }
   ],
   "source": [
    "df.iloc[3:6]['Company'] = 'Digi'"
   ]
  },
  {
   "cell_type": "code",
   "execution_count": 11,
   "metadata": {},
   "outputs": [],
   "source": [
    "df.iloc[5][0:6] = df.iloc[4][0:6]"
   ]
  },
  {
   "cell_type": "code",
   "execution_count": 12,
   "metadata": {},
   "outputs": [
    {
     "name": "stderr",
     "output_type": "stream",
     "text": [
      "<ipython-input-12-c3d75bc6851c>:1: SettingWithCopyWarning: \n",
      "A value is trying to be set on a copy of a slice from a DataFrame.\n",
      "Try using .loc[row_indexer,col_indexer] = value instead\n",
      "\n",
      "See the caveats in the documentation: https://pandas.pydata.org/pandas-docs/stable/user_guide/indexing.html#returning-a-view-versus-a-copy\n",
      "  df.loc[0:5]['Monthly Device Fee'] = '9'\n"
     ]
    }
   ],
   "source": [
    "df.loc[0:5]['Monthly Device Fee'] = '9'"
   ]
  },
  {
   "cell_type": "code",
   "execution_count": 13,
   "metadata": {},
   "outputs": [
    {
     "name": "stderr",
     "output_type": "stream",
     "text": [
      "<ipython-input-13-2e646ff49f1c>:1: SettingWithCopyWarning: \n",
      "A value is trying to be set on a copy of a slice from a DataFrame.\n",
      "Try using .loc[row_indexer,col_indexer] = value instead\n",
      "\n",
      "See the caveats in the documentation: https://pandas.pydata.org/pandas-docs/stable/user_guide/indexing.html#returning-a-view-versus-a-copy\n",
      "  df.loc[0:11]['Contract Period'] = '12'\n"
     ]
    }
   ],
   "source": [
    "df.loc[0:11]['Contract Period'] = '12'"
   ]
  },
  {
   "cell_type": "code",
   "execution_count": 14,
   "metadata": {},
   "outputs": [],
   "source": [
    "df['Dongle Type'][6] = 'HUDDLE XS 4G LTE'"
   ]
  },
  {
   "cell_type": "code",
   "execution_count": 15,
   "metadata": {},
   "outputs": [
    {
     "data": {
      "text/plain": [
       "Company                            Yes\n",
       "Dongle Type           HUDDLE XS 4G LTE\n",
       "RRP                                NaN\n",
       "Speed                    Up tp 54 MBPs\n",
       "Monthly Device Fee                Free\n",
       "Device Upfront Fee                Free\n",
       "Name: 6, dtype: object"
      ]
     },
     "execution_count": 15,
     "metadata": {},
     "output_type": "execute_result"
    }
   ],
   "source": [
    "df.loc[6][0:6]"
   ]
  },
  {
   "cell_type": "code",
   "execution_count": 16,
   "metadata": {},
   "outputs": [],
   "source": [
    "for i in range(7,11):\n",
    "    df.iloc[i][0:6] = df.iloc[6][0:6]"
   ]
  },
  {
   "cell_type": "code",
   "execution_count": 17,
   "metadata": {},
   "outputs": [],
   "source": [
    "df['Activation Fee'][7:11] = df['Activation Fee'][6]  "
   ]
  },
  {
   "cell_type": "code",
   "execution_count": 18,
   "metadata": {},
   "outputs": [],
   "source": [
    "df['Company'][11:18] = 'Umobile' "
   ]
  },
  {
   "cell_type": "code",
   "execution_count": 19,
   "metadata": {},
   "outputs": [],
   "source": [
    "df['Contract Period'][11:18] = 'None' "
   ]
  },
  {
   "cell_type": "code",
   "execution_count": 20,
   "metadata": {},
   "outputs": [],
   "source": [
    "df['Activation Fee'][11:18] = '100'"
   ]
  },
  {
   "cell_type": "code",
   "execution_count": 21,
   "metadata": {},
   "outputs": [],
   "source": [
    "df.rename(columns = {'Rebate ': 'Rebate'}, inplace = True) "
   ]
  },
  {
   "cell_type": "code",
   "execution_count": 22,
   "metadata": {},
   "outputs": [],
   "source": [
    "df['Rebate'][11:18] = '100'"
   ]
  },
  {
   "cell_type": "code",
   "execution_count": 23,
   "metadata": {},
   "outputs": [],
   "source": [
    "for i in range(12,14):\n",
    "    df.iloc[i][1:4] = df.iloc[11][1:4]"
   ]
  },
  {
   "cell_type": "code",
   "execution_count": 24,
   "metadata": {},
   "outputs": [],
   "source": [
    "for i in range(14,18):\n",
    "    df.iloc[i][7:9] = df.iloc[11][7:9]"
   ]
  },
  {
   "cell_type": "code",
   "execution_count": 25,
   "metadata": {},
   "outputs": [],
   "source": [
    "for i in range(15,18):\n",
    "    df.iloc[i][1:4] = df.iloc[14][1:4]"
   ]
  },
  {
   "cell_type": "code",
   "execution_count": 26,
   "metadata": {},
   "outputs": [],
   "source": [
    "df['Contract Period'][18] = '24' "
   ]
  },
  {
   "cell_type": "code",
   "execution_count": 27,
   "metadata": {},
   "outputs": [],
   "source": [
    "df['Activation Fee'][6:11] = '100 unless register for free in store.'"
   ]
  },
  {
   "cell_type": "code",
   "execution_count": 28,
   "metadata": {},
   "outputs": [],
   "source": [
    "df.fillna(0, inplace=True)"
   ]
  },
  {
   "cell_type": "code",
   "execution_count": 29,
   "metadata": {},
   "outputs": [
    {
     "name": "stderr",
     "output_type": "stream",
     "text": [
      "<ipython-input-29-57ba2ccba7e0>:1: SettingWithCopyWarning: \n",
      "A value is trying to be set on a copy of a slice from a DataFrame\n",
      "\n",
      "See the caveats in the documentation: https://pandas.pydata.org/pandas-docs/stable/user_guide/indexing.html#returning-a-view-versus-a-copy\n",
      "  df['Base Quota'][6:18] = df['Streaming Quota'][6:18]\n"
     ]
    }
   ],
   "source": [
    "df['Base Quota'][6:18] = df['Streaming Quota'][6:18]"
   ]
  },
  {
   "cell_type": "code",
   "execution_count": 30,
   "metadata": {},
   "outputs": [],
   "source": [
    "df.drop(columns=['Streaming Quota'], inplace = True)"
   ]
  },
  {
   "cell_type": "code",
   "execution_count": 31,
   "metadata": {},
   "outputs": [
    {
     "name": "stderr",
     "output_type": "stream",
     "text": [
      "<ipython-input-31-4e38d90d8b38>:1: SettingWithCopyWarning: \n",
      "A value is trying to be set on a copy of a slice from a DataFrame\n",
      "\n",
      "See the caveats in the documentation: https://pandas.pydata.org/pandas-docs/stable/user_guide/indexing.html#returning-a-view-versus-a-copy\n",
      "  df['Device Upfront Fee'][0] = '100'\n"
     ]
    }
   ],
   "source": [
    "df['Device Upfront Fee'][0] = '100'"
   ]
  },
  {
   "cell_type": "code",
   "execution_count": 32,
   "metadata": {},
   "outputs": [
    {
     "name": "stderr",
     "output_type": "stream",
     "text": [
      "<ipython-input-32-00a5fed52d28>:1: SettingWithCopyWarning: \n",
      "A value is trying to be set on a copy of a slice from a DataFrame\n",
      "\n",
      "See the caveats in the documentation: https://pandas.pydata.org/pandas-docs/stable/user_guide/indexing.html#returning-a-view-versus-a-copy\n",
      "  df['Device Upfront Fee'][1] = '65'\n"
     ]
    }
   ],
   "source": [
    "df['Device Upfront Fee'][1] = '65'"
   ]
  },
  {
   "cell_type": "code",
   "execution_count": 33,
   "metadata": {},
   "outputs": [
    {
     "name": "stderr",
     "output_type": "stream",
     "text": [
      "<ipython-input-33-9fd54a0825a5>:1: SettingWithCopyWarning: \n",
      "A value is trying to be set on a copy of a slice from a DataFrame\n",
      "\n",
      "See the caveats in the documentation: https://pandas.pydata.org/pandas-docs/stable/user_guide/indexing.html#returning-a-view-versus-a-copy\n",
      "  df['Base Quota'][11] = '7'\n",
      "<ipython-input-33-9fd54a0825a5>:2: SettingWithCopyWarning: \n",
      "A value is trying to be set on a copy of a slice from a DataFrame\n",
      "\n",
      "See the caveats in the documentation: https://pandas.pydata.org/pandas-docs/stable/user_guide/indexing.html#returning-a-view-versus-a-copy\n",
      "  df['Base Quota'][12] = '9'\n",
      "<ipython-input-33-9fd54a0825a5>:3: SettingWithCopyWarning: \n",
      "A value is trying to be set on a copy of a slice from a DataFrame\n",
      "\n",
      "See the caveats in the documentation: https://pandas.pydata.org/pandas-docs/stable/user_guide/indexing.html#returning-a-view-versus-a-copy\n",
      "  df['Base Quota'][13] = '12'\n",
      "<ipython-input-33-9fd54a0825a5>:4: SettingWithCopyWarning: \n",
      "A value is trying to be set on a copy of a slice from a DataFrame\n",
      "\n",
      "See the caveats in the documentation: https://pandas.pydata.org/pandas-docs/stable/user_guide/indexing.html#returning-a-view-versus-a-copy\n",
      "  df['Base Quota'][14] = '4'\n",
      "<ipython-input-33-9fd54a0825a5>:5: SettingWithCopyWarning: \n",
      "A value is trying to be set on a copy of a slice from a DataFrame\n",
      "\n",
      "See the caveats in the documentation: https://pandas.pydata.org/pandas-docs/stable/user_guide/indexing.html#returning-a-view-versus-a-copy\n",
      "  df['Base Quota'][15] = '7'\n",
      "<ipython-input-33-9fd54a0825a5>:6: SettingWithCopyWarning: \n",
      "A value is trying to be set on a copy of a slice from a DataFrame\n",
      "\n",
      "See the caveats in the documentation: https://pandas.pydata.org/pandas-docs/stable/user_guide/indexing.html#returning-a-view-versus-a-copy\n",
      "  df['Base Quota'][16] = '9'\n",
      "<ipython-input-33-9fd54a0825a5>:7: SettingWithCopyWarning: \n",
      "A value is trying to be set on a copy of a slice from a DataFrame\n",
      "\n",
      "See the caveats in the documentation: https://pandas.pydata.org/pandas-docs/stable/user_guide/indexing.html#returning-a-view-versus-a-copy\n",
      "  df['Base Quota'][17] = '12'\n"
     ]
    }
   ],
   "source": [
    "df['Base Quota'][11] = '7'\n",
    "df['Base Quota'][12] = '9'\n",
    "df['Base Quota'][13] = '12'\n",
    "df['Base Quota'][14] = '4'\n",
    "df['Base Quota'][15] = '7'\n",
    "df['Base Quota'][16] = '9'\n",
    "df['Base Quota'][17] = '12'"
   ]
  },
  {
   "cell_type": "code",
   "execution_count": 34,
   "metadata": {},
   "outputs": [
    {
     "name": "stderr",
     "output_type": "stream",
     "text": [
      "<ipython-input-34-3a5d528e3be4>:1: SettingWithCopyWarning: \n",
      "A value is trying to be set on a copy of a slice from a DataFrame\n",
      "\n",
      "See the caveats in the documentation: https://pandas.pydata.org/pandas-docs/stable/user_guide/indexing.html#returning-a-view-versus-a-copy\n",
      "  df['Base Quota'][18:20] = '500'\n"
     ]
    }
   ],
   "source": [
    "df['Base Quota'][18:20] = '500'"
   ]
  },
  {
   "cell_type": "code",
   "execution_count": 35,
   "metadata": {},
   "outputs": [],
   "source": [
    "df['Base Quota'] = df['Base Quota'].astype('int64')\n",
    "df['Price per month'] = df['Price per month'].astype('int64')\n",
    "df['Yearly Charge'] = df['Yearly Charge'].astype('int64')"
   ]
  },
  {
   "cell_type": "code",
   "execution_count": 36,
   "metadata": {},
   "outputs": [
    {
     "data": {
      "text/plain": [
       "Company               object\n",
       "Dongle Type           object\n",
       "RRP                   object\n",
       "Speed                 object\n",
       "Monthly Device Fee    object\n",
       "Device Upfront Fee    object\n",
       "Plan Name             object\n",
       "Activation Fee        object\n",
       "Rebate                object\n",
       "Base Quota             int64\n",
       "Price per month        int64\n",
       "Contract Period       object\n",
       "Yearly Charge          int64\n",
       "dtype: object"
      ]
     },
     "execution_count": 36,
     "metadata": {},
     "output_type": "execute_result"
    }
   ],
   "source": [
    "df.dtypes"
   ]
  },
  {
   "cell_type": "code",
   "execution_count": 37,
   "metadata": {},
   "outputs": [
    {
     "data": {
      "text/html": [
       "<div>\n",
       "<style scoped>\n",
       "    .dataframe tbody tr th:only-of-type {\n",
       "        vertical-align: middle;\n",
       "    }\n",
       "\n",
       "    .dataframe tbody tr th {\n",
       "        vertical-align: top;\n",
       "    }\n",
       "\n",
       "    .dataframe thead th {\n",
       "        text-align: right;\n",
       "    }\n",
       "</style>\n",
       "<table border=\"1\" class=\"dataframe\">\n",
       "  <thead>\n",
       "    <tr style=\"text-align: right;\">\n",
       "      <th></th>\n",
       "      <th>Company</th>\n",
       "      <th>Dongle Type</th>\n",
       "      <th>RRP</th>\n",
       "      <th>Speed</th>\n",
       "      <th>Monthly Device Fee</th>\n",
       "      <th>Device Upfront Fee</th>\n",
       "      <th>Plan Name</th>\n",
       "      <th>Activation Fee</th>\n",
       "      <th>Rebate</th>\n",
       "      <th>Base Quota</th>\n",
       "      <th>Price per month</th>\n",
       "      <th>Contract Period</th>\n",
       "      <th>Yearly Charge</th>\n",
       "    </tr>\n",
       "  </thead>\n",
       "  <tbody>\n",
       "    <tr>\n",
       "      <th>14</th>\n",
       "      <td>Umobile</td>\n",
       "      <td>USB</td>\n",
       "      <td>49</td>\n",
       "      <td>????</td>\n",
       "      <td>0</td>\n",
       "      <td>0</td>\n",
       "      <td>MB48</td>\n",
       "      <td>100</td>\n",
       "      <td>100</td>\n",
       "      <td>4</td>\n",
       "      <td>40</td>\n",
       "      <td>None</td>\n",
       "      <td>429</td>\n",
       "    </tr>\n",
       "    <tr>\n",
       "      <th>0</th>\n",
       "      <td>Digi</td>\n",
       "      <td>Huawei E5577-321 (LTE)</td>\n",
       "      <td>299</td>\n",
       "      <td>4G LTE,  up to 150 Mbps</td>\n",
       "      <td>9</td>\n",
       "      <td>100</td>\n",
       "      <td>Broadband Monthly 45</td>\n",
       "      <td>0</td>\n",
       "      <td>0</td>\n",
       "      <td>15</td>\n",
       "      <td>45</td>\n",
       "      <td>12</td>\n",
       "      <td>648</td>\n",
       "    </tr>\n",
       "    <tr>\n",
       "      <th>6</th>\n",
       "      <td>Yes</td>\n",
       "      <td>HUDDLE XS 4G LTE</td>\n",
       "      <td>0</td>\n",
       "      <td>Up tp 54 MBPs</td>\n",
       "      <td>Free</td>\n",
       "      <td>Free</td>\n",
       "      <td>Postpaid 45</td>\n",
       "      <td>100 unless register for free in store.</td>\n",
       "      <td>0</td>\n",
       "      <td>50</td>\n",
       "      <td>45</td>\n",
       "      <td>12</td>\n",
       "      <td>540</td>\n",
       "    </tr>\n",
       "    <tr>\n",
       "      <th>1</th>\n",
       "      <td>Digi</td>\n",
       "      <td>Huawei E5577-321 (LTE)</td>\n",
       "      <td>299</td>\n",
       "      <td>4G LTE,  up to 150 Mbps</td>\n",
       "      <td>9</td>\n",
       "      <td>65</td>\n",
       "      <td>Broadband Monthly 65</td>\n",
       "      <td>0</td>\n",
       "      <td>0</td>\n",
       "      <td>30</td>\n",
       "      <td>65</td>\n",
       "      <td>12</td>\n",
       "      <td>888</td>\n",
       "    </tr>\n",
       "    <tr>\n",
       "      <th>4</th>\n",
       "      <td>Digi</td>\n",
       "      <td>TP Link MR200</td>\n",
       "      <td>439</td>\n",
       "      <td>4G LTE, up to 150 Mbps</td>\n",
       "      <td>9</td>\n",
       "      <td>180</td>\n",
       "      <td>Broadband Monthly 65</td>\n",
       "      <td>0</td>\n",
       "      <td>0</td>\n",
       "      <td>30</td>\n",
       "      <td>65</td>\n",
       "      <td>12</td>\n",
       "      <td>1068</td>\n",
       "    </tr>\n",
       "    <tr>\n",
       "      <th>7</th>\n",
       "      <td>Yes</td>\n",
       "      <td>HUDDLE XS 4G LTE</td>\n",
       "      <td>0</td>\n",
       "      <td>Up tp 54 MBPs</td>\n",
       "      <td>Free</td>\n",
       "      <td>Free</td>\n",
       "      <td>Postpaid 65</td>\n",
       "      <td>100 unless register for free in store.</td>\n",
       "      <td>0</td>\n",
       "      <td>65</td>\n",
       "      <td>65</td>\n",
       "      <td>12</td>\n",
       "      <td>780</td>\n",
       "    </tr>\n",
       "    <tr>\n",
       "      <th>11</th>\n",
       "      <td>Umobile</td>\n",
       "      <td>Mifi</td>\n",
       "      <td>99</td>\n",
       "      <td>Up to 150Mbps</td>\n",
       "      <td>0</td>\n",
       "      <td>0</td>\n",
       "      <td>MB68</td>\n",
       "      <td>100</td>\n",
       "      <td>100</td>\n",
       "      <td>7</td>\n",
       "      <td>68</td>\n",
       "      <td>None</td>\n",
       "      <td>815</td>\n",
       "    </tr>\n",
       "    <tr>\n",
       "      <th>15</th>\n",
       "      <td>Umobile</td>\n",
       "      <td>USB</td>\n",
       "      <td>49</td>\n",
       "      <td>????</td>\n",
       "      <td>0</td>\n",
       "      <td>0</td>\n",
       "      <td>MB68</td>\n",
       "      <td>100</td>\n",
       "      <td>100</td>\n",
       "      <td>7</td>\n",
       "      <td>68</td>\n",
       "      <td>None</td>\n",
       "      <td>716</td>\n",
       "    </tr>\n",
       "    <tr>\n",
       "      <th>18</th>\n",
       "      <td>Unifi Air</td>\n",
       "      <td>Unifi Air + Wireless Router</td>\n",
       "      <td>Free</td>\n",
       "      <td>5 Mbps (tested)</td>\n",
       "      <td>Free</td>\n",
       "      <td>0</td>\n",
       "      <td>0</td>\n",
       "      <td>100</td>\n",
       "      <td>100</td>\n",
       "      <td>500</td>\n",
       "      <td>79</td>\n",
       "      <td>24</td>\n",
       "      <td>848</td>\n",
       "    </tr>\n",
       "    <tr>\n",
       "      <th>12</th>\n",
       "      <td>Umobile</td>\n",
       "      <td>Mifi</td>\n",
       "      <td>99</td>\n",
       "      <td>Up to 150Mbps</td>\n",
       "      <td>0</td>\n",
       "      <td>0</td>\n",
       "      <td>MB88</td>\n",
       "      <td>100</td>\n",
       "      <td>100</td>\n",
       "      <td>9</td>\n",
       "      <td>88</td>\n",
       "      <td>None</td>\n",
       "      <td>956</td>\n",
       "    </tr>\n",
       "    <tr>\n",
       "      <th>16</th>\n",
       "      <td>Umobile</td>\n",
       "      <td>USB</td>\n",
       "      <td>49</td>\n",
       "      <td>????</td>\n",
       "      <td>0</td>\n",
       "      <td>0</td>\n",
       "      <td>MB88</td>\n",
       "      <td>100</td>\n",
       "      <td>100</td>\n",
       "      <td>9</td>\n",
       "      <td>88</td>\n",
       "      <td>None</td>\n",
       "      <td>956</td>\n",
       "    </tr>\n",
       "    <tr>\n",
       "      <th>8</th>\n",
       "      <td>Yes</td>\n",
       "      <td>HUDDLE XS 4G LTE</td>\n",
       "      <td>0</td>\n",
       "      <td>Up tp 54 MBPs</td>\n",
       "      <td>Free</td>\n",
       "      <td>Free</td>\n",
       "      <td>Postpaid 98</td>\n",
       "      <td>100 unless register for free in store.</td>\n",
       "      <td>0</td>\n",
       "      <td>100</td>\n",
       "      <td>98</td>\n",
       "      <td>12</td>\n",
       "      <td>1176</td>\n",
       "    </tr>\n",
       "    <tr>\n",
       "      <th>2</th>\n",
       "      <td>Digi</td>\n",
       "      <td>Huawei E5577-321 (LTE)</td>\n",
       "      <td>299</td>\n",
       "      <td>4G LTE,  up to 150 Mbps</td>\n",
       "      <td>9</td>\n",
       "      <td>Free</td>\n",
       "      <td>Broadband Monthly 105</td>\n",
       "      <td>0</td>\n",
       "      <td>0</td>\n",
       "      <td>60</td>\n",
       "      <td>105</td>\n",
       "      <td>12</td>\n",
       "      <td>1368</td>\n",
       "    </tr>\n",
       "    <tr>\n",
       "      <th>3</th>\n",
       "      <td>Digi</td>\n",
       "      <td>Huawei E5785 (LTE-A)</td>\n",
       "      <td>749</td>\n",
       "      <td>4G LTE-A, up to 300 Mbps</td>\n",
       "      <td>9</td>\n",
       "      <td>150</td>\n",
       "      <td>Broadband Monthly 105</td>\n",
       "      <td>0</td>\n",
       "      <td>0</td>\n",
       "      <td>60</td>\n",
       "      <td>105</td>\n",
       "      <td>12</td>\n",
       "      <td>1518</td>\n",
       "    </tr>\n",
       "    <tr>\n",
       "      <th>5</th>\n",
       "      <td>Digi</td>\n",
       "      <td>TP Link MR200</td>\n",
       "      <td>439</td>\n",
       "      <td>4G LTE, up to 150 Mbps</td>\n",
       "      <td>9</td>\n",
       "      <td>180</td>\n",
       "      <td>Broadband Monthly 105</td>\n",
       "      <td>0</td>\n",
       "      <td>0</td>\n",
       "      <td>60</td>\n",
       "      <td>105</td>\n",
       "      <td>12</td>\n",
       "      <td>1548</td>\n",
       "    </tr>\n",
       "    <tr>\n",
       "      <th>13</th>\n",
       "      <td>Umobile</td>\n",
       "      <td>Mifi</td>\n",
       "      <td>99</td>\n",
       "      <td>Up to 150Mbps</td>\n",
       "      <td>0</td>\n",
       "      <td>0</td>\n",
       "      <td>MB128</td>\n",
       "      <td>100</td>\n",
       "      <td>100</td>\n",
       "      <td>12</td>\n",
       "      <td>128</td>\n",
       "      <td>None</td>\n",
       "      <td>1436</td>\n",
       "    </tr>\n",
       "    <tr>\n",
       "      <th>17</th>\n",
       "      <td>Umobile</td>\n",
       "      <td>USB</td>\n",
       "      <td>49</td>\n",
       "      <td>????</td>\n",
       "      <td>0</td>\n",
       "      <td>0</td>\n",
       "      <td>MB128</td>\n",
       "      <td>100</td>\n",
       "      <td>100</td>\n",
       "      <td>12</td>\n",
       "      <td>128</td>\n",
       "      <td>None</td>\n",
       "      <td>1436</td>\n",
       "    </tr>\n",
       "    <tr>\n",
       "      <th>9</th>\n",
       "      <td>Yes</td>\n",
       "      <td>HUDDLE XS 4G LTE</td>\n",
       "      <td>0</td>\n",
       "      <td>Up tp 54 MBPs</td>\n",
       "      <td>Free</td>\n",
       "      <td>Free</td>\n",
       "      <td>Postpaid 128</td>\n",
       "      <td>100 unless register for free in store.</td>\n",
       "      <td>0</td>\n",
       "      <td>130</td>\n",
       "      <td>128</td>\n",
       "      <td>12</td>\n",
       "      <td>1536</td>\n",
       "    </tr>\n",
       "    <tr>\n",
       "      <th>10</th>\n",
       "      <td>Yes</td>\n",
       "      <td>HUDDLE XS 4G LTE</td>\n",
       "      <td>0</td>\n",
       "      <td>Up tp 54 MBPs</td>\n",
       "      <td>Free</td>\n",
       "      <td>Free</td>\n",
       "      <td>Postpaid 148</td>\n",
       "      <td>100 unless register for free in store.</td>\n",
       "      <td>0</td>\n",
       "      <td>150</td>\n",
       "      <td>148</td>\n",
       "      <td>12</td>\n",
       "      <td>1776</td>\n",
       "    </tr>\n",
       "    <tr>\n",
       "      <th>19</th>\n",
       "      <td>TM</td>\n",
       "      <td>Streamyx</td>\n",
       "      <td>0</td>\n",
       "      <td>8Mbps</td>\n",
       "      <td>0</td>\n",
       "      <td>0</td>\n",
       "      <td>0</td>\n",
       "      <td>0</td>\n",
       "      <td>0</td>\n",
       "      <td>500</td>\n",
       "      <td>210</td>\n",
       "      <td>0</td>\n",
       "      <td>2520</td>\n",
       "    </tr>\n",
       "  </tbody>\n",
       "</table>\n",
       "</div>"
      ],
      "text/plain": [
       "      Company                  Dongle Type   RRP                     Speed  \\\n",
       "14    Umobile                          USB    49                      ????   \n",
       "0        Digi       Huawei E5577-321 (LTE)   299   4G LTE,  up to 150 Mbps   \n",
       "6         Yes             HUDDLE XS 4G LTE     0             Up tp 54 MBPs   \n",
       "1        Digi       Huawei E5577-321 (LTE)   299   4G LTE,  up to 150 Mbps   \n",
       "4        Digi                TP Link MR200   439    4G LTE, up to 150 Mbps   \n",
       "7         Yes             HUDDLE XS 4G LTE     0             Up tp 54 MBPs   \n",
       "11    Umobile                         Mifi    99             Up to 150Mbps   \n",
       "15    Umobile                          USB    49                      ????   \n",
       "18  Unifi Air  Unifi Air + Wireless Router  Free           5 Mbps (tested)   \n",
       "12    Umobile                         Mifi    99             Up to 150Mbps   \n",
       "16    Umobile                          USB    49                      ????   \n",
       "8         Yes             HUDDLE XS 4G LTE     0             Up tp 54 MBPs   \n",
       "2        Digi       Huawei E5577-321 (LTE)   299   4G LTE,  up to 150 Mbps   \n",
       "3        Digi         Huawei E5785 (LTE-A)   749  4G LTE-A, up to 300 Mbps   \n",
       "5        Digi                TP Link MR200   439    4G LTE, up to 150 Mbps   \n",
       "13    Umobile                         Mifi    99             Up to 150Mbps   \n",
       "17    Umobile                          USB    49                      ????   \n",
       "9         Yes             HUDDLE XS 4G LTE     0             Up tp 54 MBPs   \n",
       "10        Yes             HUDDLE XS 4G LTE     0             Up tp 54 MBPs   \n",
       "19         TM                     Streamyx     0                     8Mbps   \n",
       "\n",
       "   Monthly Device Fee Device Upfront Fee              Plan Name  \\\n",
       "14                  0                  0                  MB48    \n",
       "0                   9                100   Broadband Monthly 45   \n",
       "6                Free               Free            Postpaid 45   \n",
       "1                   9                 65   Broadband Monthly 65   \n",
       "4                   9                180   Broadband Monthly 65   \n",
       "7                Free               Free            Postpaid 65   \n",
       "11                  0                  0                  MB68    \n",
       "15                  0                  0                  MB68    \n",
       "18               Free                  0                      0   \n",
       "12                  0                  0                   MB88   \n",
       "16                  0                  0                   MB88   \n",
       "8                Free               Free            Postpaid 98   \n",
       "2                   9               Free  Broadband Monthly 105   \n",
       "3                   9                150  Broadband Monthly 105   \n",
       "5                   9                180  Broadband Monthly 105   \n",
       "13                  0                  0                  MB128   \n",
       "17                  0                  0                  MB128   \n",
       "9                Free               Free           Postpaid 128   \n",
       "10               Free               Free           Postpaid 148   \n",
       "19                  0                  0                      0   \n",
       "\n",
       "                            Activation Fee Rebate  Base Quota  \\\n",
       "14                                     100    100           4   \n",
       "0                                        0      0          15   \n",
       "6   100 unless register for free in store.      0          50   \n",
       "1                                        0      0          30   \n",
       "4                                        0      0          30   \n",
       "7   100 unless register for free in store.      0          65   \n",
       "11                                     100    100           7   \n",
       "15                                     100    100           7   \n",
       "18                                     100    100         500   \n",
       "12                                     100    100           9   \n",
       "16                                     100    100           9   \n",
       "8   100 unless register for free in store.      0         100   \n",
       "2                                        0      0          60   \n",
       "3                                        0      0          60   \n",
       "5                                        0      0          60   \n",
       "13                                     100    100          12   \n",
       "17                                     100    100          12   \n",
       "9   100 unless register for free in store.      0         130   \n",
       "10  100 unless register for free in store.      0         150   \n",
       "19                                       0      0         500   \n",
       "\n",
       "    Price per month Contract Period  Yearly Charge  \n",
       "14               40            None            429  \n",
       "0                45              12            648  \n",
       "6                45              12            540  \n",
       "1                65              12            888  \n",
       "4                65              12           1068  \n",
       "7                65              12            780  \n",
       "11               68            None            815  \n",
       "15               68            None            716  \n",
       "18               79              24            848  \n",
       "12               88            None            956  \n",
       "16               88            None            956  \n",
       "8                98              12           1176  \n",
       "2               105              12           1368  \n",
       "3               105              12           1518  \n",
       "5               105              12           1548  \n",
       "13              128            None           1436  \n",
       "17              128            None           1436  \n",
       "9               128              12           1536  \n",
       "10              148              12           1776  \n",
       "19              210               0           2520  "
      ]
     },
     "execution_count": 37,
     "metadata": {},
     "output_type": "execute_result"
    }
   ],
   "source": [
    "df.sort_values(by=['Price per month', 'Base Quota'])"
   ]
  },
  {
   "cell_type": "code",
   "execution_count": 38,
   "metadata": {},
   "outputs": [
    {
     "data": {
      "text/html": [
       "<div>\n",
       "<style scoped>\n",
       "    .dataframe tbody tr th:only-of-type {\n",
       "        vertical-align: middle;\n",
       "    }\n",
       "\n",
       "    .dataframe tbody tr th {\n",
       "        vertical-align: top;\n",
       "    }\n",
       "\n",
       "    .dataframe thead th {\n",
       "        text-align: right;\n",
       "    }\n",
       "</style>\n",
       "<table border=\"1\" class=\"dataframe\">\n",
       "  <thead>\n",
       "    <tr style=\"text-align: right;\">\n",
       "      <th></th>\n",
       "      <th>Company</th>\n",
       "      <th>Dongle Type</th>\n",
       "      <th>RRP</th>\n",
       "      <th>Speed</th>\n",
       "      <th>Monthly Device Fee</th>\n",
       "      <th>Device Upfront Fee</th>\n",
       "      <th>Plan Name</th>\n",
       "      <th>Activation Fee</th>\n",
       "      <th>Rebate</th>\n",
       "      <th>Base Quota</th>\n",
       "      <th>Price per month</th>\n",
       "      <th>Contract Period</th>\n",
       "      <th>Yearly Charge</th>\n",
       "    </tr>\n",
       "  </thead>\n",
       "  <tbody>\n",
       "    <tr>\n",
       "      <th>6</th>\n",
       "      <td>Yes</td>\n",
       "      <td>HUDDLE XS 4G LTE</td>\n",
       "      <td>0</td>\n",
       "      <td>Up tp 54 MBPs</td>\n",
       "      <td>Free</td>\n",
       "      <td>Free</td>\n",
       "      <td>Postpaid 45</td>\n",
       "      <td>100 unless register for free in store.</td>\n",
       "      <td>0</td>\n",
       "      <td>50</td>\n",
       "      <td>45</td>\n",
       "      <td>12</td>\n",
       "      <td>540</td>\n",
       "    </tr>\n",
       "    <tr>\n",
       "      <th>0</th>\n",
       "      <td>Digi</td>\n",
       "      <td>Huawei E5577-321 (LTE)</td>\n",
       "      <td>299</td>\n",
       "      <td>4G LTE,  up to 150 Mbps</td>\n",
       "      <td>9</td>\n",
       "      <td>100</td>\n",
       "      <td>Broadband Monthly 45</td>\n",
       "      <td>0</td>\n",
       "      <td>0</td>\n",
       "      <td>15</td>\n",
       "      <td>45</td>\n",
       "      <td>12</td>\n",
       "      <td>648</td>\n",
       "    </tr>\n",
       "    <tr>\n",
       "      <th>7</th>\n",
       "      <td>Yes</td>\n",
       "      <td>HUDDLE XS 4G LTE</td>\n",
       "      <td>0</td>\n",
       "      <td>Up tp 54 MBPs</td>\n",
       "      <td>Free</td>\n",
       "      <td>Free</td>\n",
       "      <td>Postpaid 65</td>\n",
       "      <td>100 unless register for free in store.</td>\n",
       "      <td>0</td>\n",
       "      <td>65</td>\n",
       "      <td>65</td>\n",
       "      <td>12</td>\n",
       "      <td>780</td>\n",
       "    </tr>\n",
       "    <tr>\n",
       "      <th>1</th>\n",
       "      <td>Digi</td>\n",
       "      <td>Huawei E5577-321 (LTE)</td>\n",
       "      <td>299</td>\n",
       "      <td>4G LTE,  up to 150 Mbps</td>\n",
       "      <td>9</td>\n",
       "      <td>65</td>\n",
       "      <td>Broadband Monthly 65</td>\n",
       "      <td>0</td>\n",
       "      <td>0</td>\n",
       "      <td>30</td>\n",
       "      <td>65</td>\n",
       "      <td>12</td>\n",
       "      <td>888</td>\n",
       "    </tr>\n",
       "    <tr>\n",
       "      <th>4</th>\n",
       "      <td>Digi</td>\n",
       "      <td>TP Link MR200</td>\n",
       "      <td>439</td>\n",
       "      <td>4G LTE, up to 150 Mbps</td>\n",
       "      <td>9</td>\n",
       "      <td>180</td>\n",
       "      <td>Broadband Monthly 65</td>\n",
       "      <td>0</td>\n",
       "      <td>0</td>\n",
       "      <td>30</td>\n",
       "      <td>65</td>\n",
       "      <td>12</td>\n",
       "      <td>1068</td>\n",
       "    </tr>\n",
       "    <tr>\n",
       "      <th>8</th>\n",
       "      <td>Yes</td>\n",
       "      <td>HUDDLE XS 4G LTE</td>\n",
       "      <td>0</td>\n",
       "      <td>Up tp 54 MBPs</td>\n",
       "      <td>Free</td>\n",
       "      <td>Free</td>\n",
       "      <td>Postpaid 98</td>\n",
       "      <td>100 unless register for free in store.</td>\n",
       "      <td>0</td>\n",
       "      <td>100</td>\n",
       "      <td>98</td>\n",
       "      <td>12</td>\n",
       "      <td>1176</td>\n",
       "    </tr>\n",
       "    <tr>\n",
       "      <th>2</th>\n",
       "      <td>Digi</td>\n",
       "      <td>Huawei E5577-321 (LTE)</td>\n",
       "      <td>299</td>\n",
       "      <td>4G LTE,  up to 150 Mbps</td>\n",
       "      <td>9</td>\n",
       "      <td>Free</td>\n",
       "      <td>Broadband Monthly 105</td>\n",
       "      <td>0</td>\n",
       "      <td>0</td>\n",
       "      <td>60</td>\n",
       "      <td>105</td>\n",
       "      <td>12</td>\n",
       "      <td>1368</td>\n",
       "    </tr>\n",
       "    <tr>\n",
       "      <th>3</th>\n",
       "      <td>Digi</td>\n",
       "      <td>Huawei E5785 (LTE-A)</td>\n",
       "      <td>749</td>\n",
       "      <td>4G LTE-A, up to 300 Mbps</td>\n",
       "      <td>9</td>\n",
       "      <td>150</td>\n",
       "      <td>Broadband Monthly 105</td>\n",
       "      <td>0</td>\n",
       "      <td>0</td>\n",
       "      <td>60</td>\n",
       "      <td>105</td>\n",
       "      <td>12</td>\n",
       "      <td>1518</td>\n",
       "    </tr>\n",
       "    <tr>\n",
       "      <th>5</th>\n",
       "      <td>Digi</td>\n",
       "      <td>TP Link MR200</td>\n",
       "      <td>439</td>\n",
       "      <td>4G LTE, up to 150 Mbps</td>\n",
       "      <td>9</td>\n",
       "      <td>180</td>\n",
       "      <td>Broadband Monthly 105</td>\n",
       "      <td>0</td>\n",
       "      <td>0</td>\n",
       "      <td>60</td>\n",
       "      <td>105</td>\n",
       "      <td>12</td>\n",
       "      <td>1548</td>\n",
       "    </tr>\n",
       "  </tbody>\n",
       "</table>\n",
       "</div>"
      ],
      "text/plain": [
       "  Company             Dongle Type  RRP                     Speed  \\\n",
       "6     Yes        HUDDLE XS 4G LTE    0             Up tp 54 MBPs   \n",
       "0    Digi  Huawei E5577-321 (LTE)  299   4G LTE,  up to 150 Mbps   \n",
       "7     Yes        HUDDLE XS 4G LTE    0             Up tp 54 MBPs   \n",
       "1    Digi  Huawei E5577-321 (LTE)  299   4G LTE,  up to 150 Mbps   \n",
       "4    Digi           TP Link MR200  439    4G LTE, up to 150 Mbps   \n",
       "8     Yes        HUDDLE XS 4G LTE    0             Up tp 54 MBPs   \n",
       "2    Digi  Huawei E5577-321 (LTE)  299   4G LTE,  up to 150 Mbps   \n",
       "3    Digi    Huawei E5785 (LTE-A)  749  4G LTE-A, up to 300 Mbps   \n",
       "5    Digi           TP Link MR200  439    4G LTE, up to 150 Mbps   \n",
       "\n",
       "  Monthly Device Fee Device Upfront Fee              Plan Name  \\\n",
       "6               Free               Free            Postpaid 45   \n",
       "0                  9                100   Broadband Monthly 45   \n",
       "7               Free               Free            Postpaid 65   \n",
       "1                  9                 65   Broadband Monthly 65   \n",
       "4                  9                180   Broadband Monthly 65   \n",
       "8               Free               Free            Postpaid 98   \n",
       "2                  9               Free  Broadband Monthly 105   \n",
       "3                  9                150  Broadband Monthly 105   \n",
       "5                  9                180  Broadband Monthly 105   \n",
       "\n",
       "                           Activation Fee Rebate  Base Quota  Price per month  \\\n",
       "6  100 unless register for free in store.      0          50               45   \n",
       "0                                       0      0          15               45   \n",
       "7  100 unless register for free in store.      0          65               65   \n",
       "1                                       0      0          30               65   \n",
       "4                                       0      0          30               65   \n",
       "8  100 unless register for free in store.      0         100               98   \n",
       "2                                       0      0          60              105   \n",
       "3                                       0      0          60              105   \n",
       "5                                       0      0          60              105   \n",
       "\n",
       "  Contract Period  Yearly Charge  \n",
       "6              12            540  \n",
       "0              12            648  \n",
       "7              12            780  \n",
       "1              12            888  \n",
       "4              12           1068  \n",
       "8              12           1176  \n",
       "2              12           1368  \n",
       "3              12           1518  \n",
       "5              12           1548  "
      ]
     },
     "execution_count": 38,
     "metadata": {},
     "output_type": "execute_result"
    }
   ],
   "source": [
    "df[df['Base Quota'].between(15,100)].sort_values(by=['Yearly Charge', 'Base Quota'])"
   ]
  },
  {
   "cell_type": "code",
   "execution_count": null,
   "metadata": {},
   "outputs": [],
   "source": []
  }
 ],
 "metadata": {
  "kernelspec": {
   "display_name": "Python 3",
   "language": "python",
   "name": "python3"
  }
 },
 "nbformat": 4,
 "nbformat_minor": 4
}
